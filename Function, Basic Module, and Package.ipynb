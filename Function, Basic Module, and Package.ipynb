{
 "cells": [
  {
   "cell_type": "code",
   "execution_count": 1,
   "id": "fbbffab5",
   "metadata": {},
   "outputs": [],
   "source": [
    "def greeting():\n",
    "\t'''Fungsi ini akan menampilkan pesan default yaitu Hello World 10 x'''\n",
    "\tprint('Hello world' * 10)\n"
   ]
  },
  {
   "cell_type": "code",
   "execution_count": 4,
   "id": "aac24a23",
   "metadata": {},
   "outputs": [
    {
     "data": {
      "text/plain": [
       "<function __main__.greeting()>"
      ]
     },
     "execution_count": 4,
     "metadata": {},
     "output_type": "execute_result"
    }
   ],
   "source": [
    "greeting"
   ]
  },
  {
   "cell_type": "code",
   "execution_count": 5,
   "id": "b0019e1d",
   "metadata": {},
   "outputs": [
    {
     "name": "stdout",
     "output_type": "stream",
     "text": [
      "Hello worldHello worldHello worldHello worldHello worldHello worldHello worldHello worldHello worldHello world\n"
     ]
    }
   ],
   "source": [
    "#evoke #trigger #panngil\n",
    "greeting()\n"
   ]
  },
  {
   "cell_type": "code",
   "execution_count": 6,
   "id": "a9c933b2",
   "metadata": {},
   "outputs": [
    {
     "data": {
      "text/plain": [
       "['__annotations__',\n",
       " '__call__',\n",
       " '__class__',\n",
       " '__closure__',\n",
       " '__code__',\n",
       " '__defaults__',\n",
       " '__delattr__',\n",
       " '__dict__',\n",
       " '__dir__',\n",
       " '__doc__',\n",
       " '__eq__',\n",
       " '__format__',\n",
       " '__ge__',\n",
       " '__get__',\n",
       " '__getattribute__',\n",
       " '__globals__',\n",
       " '__gt__',\n",
       " '__hash__',\n",
       " '__init__',\n",
       " '__init_subclass__',\n",
       " '__kwdefaults__',\n",
       " '__le__',\n",
       " '__lt__',\n",
       " '__module__',\n",
       " '__name__',\n",
       " '__ne__',\n",
       " '__new__',\n",
       " '__qualname__',\n",
       " '__reduce__',\n",
       " '__reduce_ex__',\n",
       " '__repr__',\n",
       " '__setattr__',\n",
       " '__sizeof__',\n",
       " '__str__',\n",
       " '__subclasshook__']"
      ]
     },
     "execution_count": 6,
     "metadata": {},
     "output_type": "execute_result"
    }
   ],
   "source": [
    "dir(greeting)"
   ]
  },
  {
   "cell_type": "code",
   "execution_count": 7,
   "id": "a138018d",
   "metadata": {},
   "outputs": [
    {
     "data": {
      "text/plain": [
       "'Fungsi ini akan menampilkan pesan default yaitu Hello World 10 x'"
      ]
     },
     "execution_count": 7,
     "metadata": {},
     "output_type": "execute_result"
    }
   ],
   "source": [
    "greeting.__doc__"
   ]
  },
  {
   "cell_type": "code",
   "execution_count": 8,
   "id": "42710279",
   "metadata": {},
   "outputs": [],
   "source": [
    "def my_function(p, l): #parameter\n",
    "\t'''Function untuk menghitung luas'''\n",
    "\tprint(p * l)\n",
    "\t# return None\n"
   ]
  },
  {
   "cell_type": "code",
   "execution_count": 9,
   "id": "4e6a983e",
   "metadata": {},
   "outputs": [
    {
     "ename": "TypeError",
     "evalue": "my_function() missing 2 required positional arguments: 'p' and 'l'",
     "output_type": "error",
     "traceback": [
      "\u001b[1;31m---------------------------------------------------------------------------\u001b[0m",
      "\u001b[1;31mTypeError\u001b[0m                                 Traceback (most recent call last)",
      "Input \u001b[1;32mIn [9]\u001b[0m, in \u001b[0;36m<cell line: 1>\u001b[1;34m()\u001b[0m\n\u001b[1;32m----> 1\u001b[0m \u001b[43mmy_function\u001b[49m\u001b[43m(\u001b[49m\u001b[43m)\u001b[49m\n",
      "\u001b[1;31mTypeError\u001b[0m: my_function() missing 2 required positional arguments: 'p' and 'l'"
     ]
    }
   ],
   "source": [
    "my_function()\n",
    "#memang error\n"
   ]
  },
  {
   "cell_type": "code",
   "execution_count": 10,
   "id": "1b107e4e",
   "metadata": {},
   "outputs": [
    {
     "name": "stdout",
     "output_type": "stream",
     "text": [
      "16\n"
     ]
    }
   ],
   "source": [
    "my_function(2, 8)"
   ]
  },
  {
   "cell_type": "code",
   "execution_count": 11,
   "id": "38d7347f",
   "metadata": {},
   "outputs": [
    {
     "name": "stdout",
     "output_type": "stream",
     "text": [
      "16\n",
      "None\n"
     ]
    }
   ],
   "source": [
    "print(my_function(2, 8))"
   ]
  },
  {
   "cell_type": "code",
   "execution_count": 12,
   "id": "8dd08d9b",
   "metadata": {},
   "outputs": [
    {
     "data": {
      "text/plain": [
       "'Function untuk menghitung luas'"
      ]
     },
     "execution_count": 12,
     "metadata": {},
     "output_type": "execute_result"
    }
   ],
   "source": [
    "my_function.__doc__"
   ]
  },
  {
   "cell_type": "code",
   "execution_count": 13,
   "id": "eaac3c11",
   "metadata": {},
   "outputs": [
    {
     "name": "stdout",
     "output_type": "stream",
     "text": [
      "Values inside the function:  [10, 20, 30, [1, 2, 3, 4]]\n",
      "Values outside the function:  [10, 20, 30, [1, 2, 3, 4]]\n"
     ]
    }
   ],
   "source": [
    "# Function definition is here\n",
    "def changeme(mylist):\n",
    "\t\"This changes a passed list into this function\"\n",
    "\tmylist.append([1, 2, 3, 4])\n",
    "\tprint(\"Values inside the function: \", mylist)\n",
    "\treturn\n",
    "\n",
    "\n",
    "# Now you can call the changeme function\n",
    "mylist = [10, 20, 30]\n",
    "changeme(mylist)\n",
    "print(\"Values outside the function: \", mylist)\n"
   ]
  },
  {
   "cell_type": "code",
   "execution_count": 14,
   "id": "062e7e25",
   "metadata": {},
   "outputs": [
    {
     "name": "stdout",
     "output_type": "stream",
     "text": [
      "Values inside the function:  holla 777\n",
      "Values outside the function:  holla \n"
     ]
    }
   ],
   "source": [
    "# Function definition is here\n",
    "def changeme(mystr):\n",
    "\t\"This changes a passed str into this function\"\n",
    "\tmystr += '777'\n",
    "\tprint(\"Values inside the function: \", mystr)\n",
    "\treturn\n",
    "\n",
    "\n",
    "# Now you can call the changeme function\n",
    "mystr = \"holla \"\n",
    "changeme(mystr)\n",
    "print(\"Values outside the function: \", mystr)\n"
   ]
  },
  {
   "cell_type": "code",
   "execution_count": 15,
   "id": "cae454cb",
   "metadata": {},
   "outputs": [
    {
     "name": "stdout",
     "output_type": "stream",
     "text": [
      "Values inside the function:  [1, 2, 3, 4]\n",
      "Values outside the function:  [10, 20, 30]\n"
     ]
    }
   ],
   "source": [
    "# Function definition is here\n",
    "def changeme(mylist):\n",
    "\t'''This changes a passed list into this function'''\n",
    "\tmylist = [1, 2, 3, 4] # This would assign new reference in mylist\n",
    "\tprint(\"Values inside the function: \", mylist) #** 1 2 3 4\n",
    "\treturn\n",
    "\n",
    "\n",
    "# Now you can call changeme function\n",
    "mylist = [10, 20, 30]\n",
    "changeme(mylist)\n",
    "print(\"Values outside the function: \", mylist)  #**10, 20, 30\n"
   ]
  },
  {
   "cell_type": "code",
   "execution_count": 16,
   "id": "92983072",
   "metadata": {},
   "outputs": [
    {
     "name": "stdout",
     "output_type": "stream",
     "text": [
      "Name:  ari\n",
      "Age:  45\n"
     ]
    }
   ],
   "source": [
    "# Function definition is here\n",
    "def print_info(name, age):\n",
    "\t'''This prints a passed info this function'''\n",
    "\tprint(\"Name: \", name)\n",
    "\tprint(\"Age: \", age)\n",
    "\treturn\n",
    "\n",
    "# Now you can call printinfo function\n",
    "print_info(\"ari\", 45)\n"
   ]
  },
  {
   "cell_type": "code",
   "execution_count": 17,
   "id": "da653d84",
   "metadata": {},
   "outputs": [
    {
     "name": "stdout",
     "output_type": "stream",
     "text": [
      "Name:  45\n",
      "Age:  ari\n"
     ]
    }
   ],
   "source": [
    "print_info(45, \"ari\")\n",
    "#       \t(name, age)\n"
   ]
  },
  {
   "cell_type": "code",
   "execution_count": 18,
   "id": "366182e1",
   "metadata": {},
   "outputs": [
    {
     "ename": "TypeError",
     "evalue": "print_info() got an unexpected keyword argument 'nama'",
     "output_type": "error",
     "traceback": [
      "\u001b[1;31m---------------------------------------------------------------------------\u001b[0m",
      "\u001b[1;31mTypeError\u001b[0m                                 Traceback (most recent call last)",
      "Input \u001b[1;32mIn [18]\u001b[0m, in \u001b[0;36m<cell line: 1>\u001b[1;34m()\u001b[0m\n\u001b[1;32m----> 1\u001b[0m \u001b[43mprint_info\u001b[49m\u001b[43m(\u001b[49m\u001b[43mnama\u001b[49m\u001b[38;5;241;43m=\u001b[39;49m\u001b[38;5;124;43m\"\u001b[39;49m\u001b[38;5;124;43mari\u001b[39;49m\u001b[38;5;124;43m\"\u001b[39;49m\u001b[43m,\u001b[49m\u001b[43m \u001b[49m\u001b[43mage\u001b[49m\u001b[38;5;241;43m=\u001b[39;49m\u001b[38;5;241;43m45\u001b[39;49m\u001b[43m)\u001b[49m\n",
      "\u001b[1;31mTypeError\u001b[0m: print_info() got an unexpected keyword argument 'nama'"
     ]
    }
   ],
   "source": [
    "print_info(nama=\"ari\", age=45)"
   ]
  },
  {
   "cell_type": "code",
   "execution_count": 19,
   "id": "f618d7c8",
   "metadata": {},
   "outputs": [
    {
     "name": "stdout",
     "output_type": "stream",
     "text": [
      "Name:  ari\n",
      "Age:  45\n"
     ]
    }
   ],
   "source": [
    "print_info(age=45, name=\"ari\")"
   ]
  },
  {
   "cell_type": "code",
   "execution_count": 20,
   "id": "b2244ba5",
   "metadata": {},
   "outputs": [
    {
     "ename": "TypeError",
     "evalue": "print_info() got an unexpected keyword argument 'nama'",
     "output_type": "error",
     "traceback": [
      "\u001b[1;31m---------------------------------------------------------------------------\u001b[0m",
      "\u001b[1;31mTypeError\u001b[0m                                 Traceback (most recent call last)",
      "Input \u001b[1;32mIn [20]\u001b[0m, in \u001b[0;36m<cell line: 1>\u001b[1;34m()\u001b[0m\n\u001b[1;32m----> 1\u001b[0m \u001b[43mprint_info\u001b[49m\u001b[43m(\u001b[49m\u001b[43mnama\u001b[49m\u001b[38;5;241;43m=\u001b[39;49m\u001b[38;5;124;43m\"\u001b[39;49m\u001b[38;5;124;43mari\u001b[39;49m\u001b[38;5;124;43m\"\u001b[39;49m\u001b[43m,\u001b[49m\u001b[43m \u001b[49m\u001b[43mage\u001b[49m\u001b[38;5;241;43m=\u001b[39;49m\u001b[38;5;241;43m45\u001b[39;49m\u001b[43m)\u001b[49m\n",
      "\u001b[1;31mTypeError\u001b[0m: print_info() got an unexpected keyword argument 'nama'"
     ]
    }
   ],
   "source": [
    "print_info(nama=\"ari\", age=45)\n",
    "#memang error\n"
   ]
  },
  {
   "cell_type": "code",
   "execution_count": 21,
   "id": "91982248",
   "metadata": {},
   "outputs": [
    {
     "ename": "TypeError",
     "evalue": "print_info() missing 1 required positional argument: 'age'",
     "output_type": "error",
     "traceback": [
      "\u001b[1;31m---------------------------------------------------------------------------\u001b[0m",
      "\u001b[1;31mTypeError\u001b[0m                                 Traceback (most recent call last)",
      "Input \u001b[1;32mIn [21]\u001b[0m, in \u001b[0;36m<cell line: 2>\u001b[1;34m()\u001b[0m\n\u001b[0;32m      1\u001b[0m \u001b[38;5;66;03m#before\u001b[39;00m\n\u001b[1;32m----> 2\u001b[0m \u001b[43mprint_info\u001b[49m\u001b[43m(\u001b[49m\u001b[38;5;124;43m'\u001b[39;49m\u001b[38;5;124;43mIra\u001b[39;49m\u001b[38;5;124;43m'\u001b[39;49m\u001b[43m)\u001b[49m\n",
      "\u001b[1;31mTypeError\u001b[0m: print_info() missing 1 required positional argument: 'age'"
     ]
    }
   ],
   "source": [
    "#before\n",
    "print_info('Ira')\n"
   ]
  },
  {
   "cell_type": "code",
   "execution_count": 22,
   "id": "a9e0f21a",
   "metadata": {},
   "outputs": [],
   "source": [
    "#modify\n",
    "# Function definition is here\n",
    "def print_info(name, age=17):\n",
    "\t'''This prints a passed info this function'''\n",
    "\tprint(\"Name: \", name)\n",
    "\tprint(\"Age: \", age)\n",
    "\treturn\n"
   ]
  },
  {
   "cell_type": "code",
   "execution_count": 23,
   "id": "6e181083",
   "metadata": {},
   "outputs": [
    {
     "name": "stdout",
     "output_type": "stream",
     "text": [
      "Name:  Ira\n",
      "Age:  17\n",
      "Name:  Indira\n",
      "Age:  17\n",
      "Name:  Dira\n",
      "Age:  17\n"
     ]
    }
   ],
   "source": [
    "#after\n",
    "print_info('Ira')\n",
    "print_info('Indira')\n",
    "print_info('Dira')\n"
   ]
  },
  {
   "cell_type": "code",
   "execution_count": 24,
   "id": "e51a8477",
   "metadata": {},
   "outputs": [
    {
     "ename": "IndentationError",
     "evalue": "expected an indented block (1410930881.py, line 6)",
     "output_type": "error",
     "traceback": [
      "\u001b[1;36m  Input \u001b[1;32mIn [24]\u001b[1;36m\u001b[0m\n\u001b[1;33m    \u001b[0m\n\u001b[1;37m    ^\u001b[0m\n\u001b[1;31mIndentationError\u001b[0m\u001b[1;31m:\u001b[0m expected an indented block\n"
     ]
    }
   ],
   "source": [
    "# Function definition is here\n",
    "def print_info(arg1, *vartuple):\n",
    "# def print_info(cust_name, *items):\n",
    "# def print_info(menu, *ingredients):\n",
    "# def print_info(nasabah, *loan)\n",
    "\n"
   ]
  },
  {
   "cell_type": "code",
   "execution_count": 26,
   "id": "ee951545",
   "metadata": {},
   "outputs": [],
   "source": [
    "# Function definition is here\n",
    "def print_info(arg1, *vartuple):\n",
    "\t'''This prints a variable passed arguments'''\n",
    "\tprint(\"Output is: \")\n",
    "\tprint(arg1)\n",
    "    \n",
    "\tfor var in vartuple:\n",
    "\t\tprint(var)\n",
    "    \n",
    "\treturn\n"
   ]
  },
  {
   "cell_type": "code",
   "execution_count": 27,
   "id": "f2224b1f",
   "metadata": {},
   "outputs": [
    {
     "name": "stdout",
     "output_type": "stream",
     "text": [
      "Output is: \n",
      "10\n"
     ]
    }
   ],
   "source": [
    "# Now you can call printinfo function\n",
    "print_info(10)\n",
    "#     \t(arg1, *vartuple= () )"
   ]
  },
  {
   "cell_type": "code",
   "execution_count": 28,
   "id": "09247725",
   "metadata": {},
   "outputs": [
    {
     "name": "stdout",
     "output_type": "stream",
     "text": [
      "Output is: \n",
      "70\n",
      "60\n",
      "50\n",
      "a\n"
     ]
    }
   ],
   "source": [
    "print_info(70, 60, 50, \"a\")\n",
    "#      \targ1, *vartuple= (60, 50, \"a\") )"
   ]
  },
  {
   "cell_type": "code",
   "execution_count": 30,
   "id": "6439c841",
   "metadata": {},
   "outputs": [],
   "source": [
    "# Function definition is here\n",
    "def buy(cust_name, **items):\n",
    "\t'''This prints items bought by a customer '''\n",
    "    \n",
    "\tprint(\"Customer name: \", cust_name)\n",
    "    \n",
    "\tfor key in items:\n",
    "# \tfor item in items.keys():\n",
    "\t\tprint(\"item ke-\",key, \": \", items[key])\n",
    "    \n",
    "\treturn\n"
   ]
  },
  {
   "cell_type": "code",
   "execution_count": 31,
   "id": "f84232f8",
   "metadata": {},
   "outputs": [
    {
     "name": "stdout",
     "output_type": "stream",
     "text": [
      "Customer name:  Ani\n",
      "item ke- first :  egg\n",
      "item ke- second :  sugar\n",
      "item ke- third :  salt\n",
      "item ke- fourth :  baking powder\n"
     ]
    }
   ],
   "source": [
    "buy(\"Ani\", first=\"egg\", second=\"sugar\", third=\"salt\", fourth=\"baking powder\")"
   ]
  },
  {
   "cell_type": "code",
   "execution_count": 32,
   "id": "3319acb1",
   "metadata": {},
   "outputs": [
    {
     "name": "stdout",
     "output_type": "stream",
     "text": [
      "Customer name:  Nuri\n",
      "item ke- satu :  buku\n"
     ]
    }
   ],
   "source": [
    "buy(\"Nuri\", satu=\"buku\")"
   ]
  },
  {
   "cell_type": "code",
   "execution_count": 33,
   "id": "dde83bce",
   "metadata": {},
   "outputs": [
    {
     "name": "stdout",
     "output_type": "stream",
     "text": [
      "Customer name:  Nuri\n",
      "item ke- stationary :  ('buku', 'pulpen')\n",
      "item ke- detergent :  detergent X\n"
     ]
    }
   ],
   "source": [
    "buy(\"Nuri\", stationary=(\"buku\", \"pulpen\"), detergent=\"detergent X\")"
   ]
  },
  {
   "cell_type": "code",
   "execution_count": 34,
   "id": "ad6fd98e",
   "metadata": {},
   "outputs": [
    {
     "name": "stdout",
     "output_type": "stream",
     "text": [
      "80\n"
     ]
    }
   ],
   "source": [
    "def calculate_area(p, l):\n",
    "\t'''Function untuk menghitung luas'''\n",
    "# \tprint(p * l)\n",
    "\n",
    "# \treturn p * l\n",
    "\n",
    "\tresult = p *l\n",
    "\treturn result\n",
    "# \treturn result, \"AAAA\"\n",
    "\n",
    "area = calculate_area(10, 8)\n",
    "# area = 80\n",
    "print(area)\n"
   ]
  },
  {
   "cell_type": "code",
   "execution_count": 35,
   "id": "db75b958",
   "metadata": {},
   "outputs": [
    {
     "name": "stdout",
     "output_type": "stream",
     "text": [
      "Value of total :  30\n",
      "Value of total :  40\n"
     ]
    }
   ],
   "source": [
    "# Function definition is here\n",
    "sum = lambda arg1, arg2: arg1 + arg2\n",
    "# dari contoh yang sum(10, 20)\n",
    "# sum = arg1 + arg2\n",
    "# sum = 10 + 20\n",
    "# sum = 30\n",
    "\n",
    "\n",
    "# Now you can call sum as a function\n",
    "print(\"Value of total : \", sum(10, 20))\n",
    "\n",
    "print(\"Value of total : \", sum(20, 20))\n"
   ]
  },
  {
   "cell_type": "code",
   "execution_count": 38,
   "id": "0bdd84b9",
   "metadata": {},
   "outputs": [],
   "source": [
    "\n",
    "penjumlahan = lambda arg1, arg2: arg1 + arg2\n"
   ]
  },
  {
   "cell_type": "code",
   "execution_count": 39,
   "id": "fb0cabb6",
   "metadata": {},
   "outputs": [
    {
     "data": {
      "text/plain": [
       "100"
      ]
     },
     "execution_count": 39,
     "metadata": {},
     "output_type": "execute_result"
    }
   ],
   "source": [
    "x = 10\n",
    "y = 90\n",
    "penjumlahan (x, y)\n"
   ]
  },
  {
   "cell_type": "code",
   "execution_count": 40,
   "id": "88b60b0b",
   "metadata": {},
   "outputs": [
    {
     "name": "stdout",
     "output_type": "stream",
     "text": [
      "Inside the function :  30\n",
      "Outside the function :  40\n"
     ]
    }
   ],
   "source": [
    "# Function definition is here\n",
    "def sum(arg1, arg2):\n",
    "\t'''Add both the parameters and return them.'''\n",
    "\ttotal = arg1 + arg2\n",
    "\ttotal2 = total + arg1\n",
    "\tprint(\"Inside the function : \", total)\n",
    "\treturn total2\n",
    "\n",
    "# Now you can call sum function\n",
    "total = sum(10, 20)\n",
    "print(\"Outside the function : \", total)\n"
   ]
  },
  {
   "cell_type": "code",
   "execution_count": 41,
   "id": "a2505f38",
   "metadata": {},
   "outputs": [
    {
     "name": "stdout",
     "output_type": "stream",
     "text": [
      "Inside the function local total :  30\n",
      "Outside the function global total :  0\n"
     ]
    }
   ],
   "source": [
    "total = 0\n",
    "\n",
    "def sum(arg1, arg2):\n",
    "\ttotal = arg1 + arg2\n",
    "\tprint(\"Inside the function local total : \", total)\n",
    "\treturn total\n",
    "\n",
    "def min():\n",
    "\tpass\n",
    "    \n",
    "sum(10, 20)\n",
    "print(\"Outside the function global total : \", total)\n"
   ]
  },
  {
   "cell_type": "code",
   "execution_count": 43,
   "id": "4b5e9bd4",
   "metadata": {},
   "outputs": [
    {
     "name": "stdout",
     "output_type": "stream",
     "text": [
      "50\n",
      "40\n"
     ]
    }
   ],
   "source": [
    "jumlahKucing = 20\n",
    "\n",
    "def jumlahHewan():\n",
    "\tjumlahAnjing = 30\n",
    "\treturn jumlahKucing + jumlahAnjing\n",
    "\n",
    "def jumlahKelinci():\n",
    "\treturn jumlahKucing + jumlahKucing\n",
    "\n",
    "print(jumlahHewan())\n",
    "print(jumlahKelinci())\n"
   ]
  },
  {
   "cell_type": "code",
   "execution_count": null,
   "id": "b2b5aa21",
   "metadata": {},
   "outputs": [],
   "source": []
  }
 ],
 "metadata": {
  "kernelspec": {
   "display_name": "Python 3 (ipykernel)",
   "language": "python",
   "name": "python3"
  },
  "language_info": {
   "codemirror_mode": {
    "name": "ipython",
    "version": 3
   },
   "file_extension": ".py",
   "mimetype": "text/x-python",
   "name": "python",
   "nbconvert_exporter": "python",
   "pygments_lexer": "ipython3",
   "version": "3.9.12"
  }
 },
 "nbformat": 4,
 "nbformat_minor": 5
}
