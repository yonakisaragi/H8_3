{
 "cells": [
  {
   "cell_type": "code",
   "execution_count": null,
   "id": "s37Uqht6nhyz",
   "metadata": {
    "id": "s37Uqht6nhyz"
   },
   "outputs": [],
   "source": []
  },
  {
   "cell_type": "markdown",
   "id": "1a166508",
   "metadata": {
    "id": "1a166508"
   },
   "source": [
    "```\n",
    "Kalau kita buat listnya/summary dari perintah di module kode id :\n",
    "\n",
    "A. Measure of Central Tendency: Mean     (P/N/S)\n",
    "B. Measure of Central Tendency: Median   (P/N/S)\n",
    "C. Measure of Central Tendency: Modus    (P/N/S)\n",
    "D. Measure of Spread: Range              (P/N/S)\n",
    "E. Measure of Spread: Variance           (P/N/S)\n",
    "F. Measure of Spread: Standard Deviation (P/N/S)\n",
    "G. Probability Distribution              (+C)\n",
    "H. Confidence Intervals\n",
    "I. Hypothesis Testing                    (+C)\n",
    "\n",
    "*for each (A - I):\n",
    "- Question/what data we want to look up\n",
    "- Pre-processing as needed\n",
    "\n",
    "===\n",
    "Keterangan:\n",
    "(P/N/S) : Pandas / NumPy / Scipy\n",
    "(+C)    : +Conclusion (menarik informasi/kesimpulan)\n",
    "\n",
    "===\n",
    "(*)Untuk:\n",
    "- contoh question,  ada di page/halamannya Assignment 2 \"Examples of questions can be ...\"\n",
    "- more detail tentang dekripsi kolom pada dataset & special note tentang dataset, juga ada di halaman yang sama\n",
    "```"
   ]
  },
  {
   "cell_type": "markdown",
   "id": "7dfd9562",
   "metadata": {
    "id": "7dfd9562"
   },
   "source": [
    "---\n",
    "# A. Measure of Central Tendency : Mean"
   ]
  },
  {
   "cell_type": "markdown",
   "id": "8df186fc",
   "metadata": {
    "id": "8df186fc"
   },
   "source": [
    "**Question**  // *Deskripsi dari informasi apa yang ingin dicari/dihitung di step 2*"
   ]
  },
  {
   "cell_type": "code",
   "execution_count": null,
   "id": "f9ac7f09",
   "metadata": {
    "id": "f9ac7f09"
   },
   "outputs": [],
   "source": [
    "# Question: ......"
   ]
  },
  {
   "cell_type": "markdown",
   "id": "dbc535b3",
   "metadata": {
    "id": "dbc535b3"
   },
   "source": [
    "**Pre-processing if needed** // *Student melakukan preproses dataset sebelum melakukan Proses Statistik*"
   ]
  },
  {
   "cell_type": "code",
   "execution_count": null,
   "id": "ceb78fdb",
   "metadata": {
    "id": "ceb78fdb"
   },
   "outputs": [],
   "source": [
    "# 1. pre-processing as needed\n"
   ]
  },
  {
   "cell_type": "code",
   "execution_count": null,
   "id": "2a13ac40",
   "metadata": {
    "id": "2a13ac40"
   },
   "outputs": [],
   "source": [
    "# .."
   ]
  },
  {
   "cell_type": "markdown",
   "id": "7f60908c",
   "metadata": {
    "id": "7f60908c"
   },
   "source": [
    "**Implement statistical method** // *Mengimplementaskan Mean dari kolom/data spesifik menggunakan Pandas, NumPy, atau Scipy*"
   ]
  },
  {
   "cell_type": "code",
   "execution_count": null,
   "id": "9d09cb07",
   "metadata": {
    "id": "9d09cb07"
   },
   "outputs": [],
   "source": [
    "# 2. Implement/try-to-use statistical method here ..\n",
    "\n"
   ]
  },
  {
   "cell_type": "markdown",
   "id": "4a193849",
   "metadata": {
    "id": "4a193849"
   },
   "source": [
    "---\n",
    "# B. Measure of Central Tendency : Median"
   ]
  },
  {
   "cell_type": "code",
   "execution_count": null,
   "id": "4d31ef2a",
   "metadata": {
    "id": "4d31ef2a"
   },
   "outputs": [],
   "source": [
    "# Question: ......"
   ]
  },
  {
   "cell_type": "code",
   "execution_count": null,
   "id": "ade0039d",
   "metadata": {
    "id": "ade0039d"
   },
   "outputs": [],
   "source": [
    "# 1. pre-processing as needed"
   ]
  },
  {
   "cell_type": "code",
   "execution_count": null,
   "id": "54184f49",
   "metadata": {
    "id": "54184f49"
   },
   "outputs": [],
   "source": [
    "# 2. Implement/try-to-use statistical method here .."
   ]
  },
  {
   "cell_type": "markdown",
   "id": "38f3aa2b",
   "metadata": {
    "id": "38f3aa2b"
   },
   "source": [
    "\n",
    "..."
   ]
  }
 ],
 "metadata": {
  "colab": {
   "collapsed_sections": [],
   "provenance": []
  },
  "kernelspec": {
   "display_name": "Python 3.9.7 ('base')",
   "language": "python",
   "name": "python397jvsc74a57bd06d46af94c2bbce495f1e668725902fa517c90b1782bcfe2fce0dd9868df553d3"
  },
  "language_info": {
   "codemirror_mode": {
    "name": "ipython",
    "version": 3
   },
   "file_extension": ".py",
   "mimetype": "text/x-python",
   "name": "python",
   "nbconvert_exporter": "python",
   "pygments_lexer": "ipython3",
   "version": "3.9.7"
  }
 },
 "nbformat": 4,
 "nbformat_minor": 5
}
