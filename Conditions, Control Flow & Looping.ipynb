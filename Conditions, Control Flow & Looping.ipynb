{
 "cells": [
  {
   "cell_type": "code",
   "execution_count": 1,
   "id": "f678c621",
   "metadata": {},
   "outputs": [],
   "source": [
    "x = 0\n",
    "y = 5"
   ]
  },
  {
   "cell_type": "code",
   "execution_count": 2,
   "id": "ab5febce",
   "metadata": {},
   "outputs": [
    {
     "name": "stdout",
     "output_type": "stream",
     "text": [
      "yes\n"
     ]
    }
   ],
   "source": [
    "if x < y:\n",
    "    print('yes')"
   ]
  },
  {
   "cell_type": "code",
   "execution_count": 4,
   "id": "f75e7619",
   "metadata": {},
   "outputs": [],
   "source": [
    "if x:\n",
    "    print('yes')\n",
    "\n",
    "# Identified as false because x is 0"
   ]
  },
  {
   "cell_type": "code",
   "execution_count": 6,
   "id": "66cb2b34",
   "metadata": {},
   "outputs": [
    {
     "name": "stdout",
     "output_type": "stream",
     "text": [
      "yes\n"
     ]
    }
   ],
   "source": [
    "if y:\n",
    "    print('yes')\n",
    "\n",
    "# Identified as true because y is int and not 0"
   ]
  },
  {
   "cell_type": "code",
   "execution_count": 7,
   "id": "dc3687d0",
   "metadata": {},
   "outputs": [
    {
     "name": "stdout",
     "output_type": "stream",
     "text": [
      "yes\n"
     ]
    }
   ],
   "source": [
    "if 'aul' in 'grault':\n",
    "    print('yes')"
   ]
  },
  {
   "cell_type": "code",
   "execution_count": 8,
   "id": "e14bb568",
   "metadata": {},
   "outputs": [],
   "source": [
    "if 'qux' in ['foo', 'bar', 'baz']:\n",
    "    print('yes')"
   ]
  },
  {
   "cell_type": "code",
   "execution_count": 11,
   "id": "e8fed3a9",
   "metadata": {},
   "outputs": [
    {
     "name": "stdout",
     "output_type": "stream",
     "text": [
      "AH nooo!\n"
     ]
    }
   ],
   "source": [
    "keyword = 'Hello'\n",
    "words = ['hai', 'nihao', 'annyeong']\n",
    "\n",
    "if keyword in words:\n",
    "    print('yeay!')\n",
    "else:\n",
    "    print('AH nooo!')"
   ]
  },
  {
   "cell_type": "code",
   "execution_count": 12,
   "id": "1f371b84",
   "metadata": {},
   "outputs": [
    {
     "name": "stdout",
     "output_type": "stream",
     "text": [
      "mown the lawn\n",
      "weed the garden\n",
      "take the dog a walk\n"
     ]
    }
   ],
   "source": [
    "weather = 'nice'\n",
    "# weather = 'stormy'\n",
    "\n",
    "if weather == 'nice':\n",
    "    print('mown the lawn')\n",
    "    print('weed the garden')\n",
    "    print('take the dog a walk')"
   ]
  },
  {
   "cell_type": "code",
   "execution_count": 15,
   "id": "323840ca",
   "metadata": {},
   "outputs": [
    {
     "name": "stdout",
     "output_type": "stream",
     "text": [
      "After conditional\n"
     ]
    }
   ],
   "source": [
    "if 'foo' in ['bar' 'baz', 'qux']:\n",
    "    print('Expression was true')\n",
    "    print('Executing statement in suite')\n",
    "    print('...')\n",
    "    print('Done')\n",
    "\n",
    "print('After conditional')"
   ]
  },
  {
   "cell_type": "code",
   "execution_count": 17,
   "id": "361e2c11",
   "metadata": {},
   "outputs": [
    {
     "name": "stdout",
     "output_type": "stream",
     "text": [
      "Expression was true\n",
      "Executing statement in suite\n",
      "...\n",
      "Done.\n",
      "After conditional\n"
     ]
    }
   ],
   "source": [
    "# if 'foo' in ['bar', 'baz', 'qux']:\n",
    "if 'qux' in ['bar', 'baz', 'qux']:\n",
    "\tprint('Expression was true')\n",
    "\tprint('Executing statement in suite')\n",
    "\tprint('...')\n",
    "\tprint('Done.')\n",
    "    \n",
    "print('After conditional')\n"
   ]
  },
  {
   "cell_type": "code",
   "execution_count": 16,
   "id": "c4de6ede",
   "metadata": {},
   "outputs": [
    {
     "name": "stdout",
     "output_type": "stream",
     "text": [
      "(first suite)\n",
      "x is small\n"
     ]
    }
   ],
   "source": [
    "x = 20\n",
    "\n",
    "if x < 50:\n",
    "    print('(first suite)')\n",
    "    print('x is small')\n",
    "else:\n",
    "    print('(second suite)')\n",
    "    print('x is large')"
   ]
  },
  {
   "cell_type": "code",
   "execution_count": 18,
   "id": "009ff287",
   "metadata": {},
   "outputs": [
    {
     "name": "stdout",
     "output_type": "stream",
     "text": [
      "x is  20\n",
      "---------------\n",
      "(first suite)\n",
      "x is small\n"
     ]
    }
   ],
   "source": [
    "print('x is ', x)\n",
    "print('-' * 15)\n",
    "\n",
    "if x < 50:\n",
    "\tprint('(first suite)')\n",
    "\tprint('x is small')\n",
    "else:\n",
    "\tprint('(second suite)')\n",
    "\tprint('x is large')\n"
   ]
  },
  {
   "cell_type": "code",
   "execution_count": 19,
   "id": "c5895b33",
   "metadata": {},
   "outputs": [
    {
     "name": "stdout",
     "output_type": "stream",
     "text": [
      "uang : 20000\n",
      "harga buku : 20000\n",
      "uang tidak cukup\n"
     ]
    }
   ],
   "source": [
    "harga_buku = 20000\n",
    "harga_majalah = 5000\n",
    "# uang = 2000\n",
    "uang = 20000\n",
    "\n",
    "print('uang :', uang)\n",
    "print('harga buku :', harga_buku)\n",
    "\n",
    "if uang > harga_buku:\n",
    "\tprint('beli buku')\n",
    "else:\n",
    "\tprint('uang tidak cukup')"
   ]
  },
  {
   "cell_type": "code",
   "execution_count": 20,
   "id": "c5dd6d77",
   "metadata": {},
   "outputs": [
    {
     "name": "stdout",
     "output_type": "stream",
     "text": [
      "uang : 20000\n",
      "harga buku : 20000\n",
      "beli buku\n"
     ]
    }
   ],
   "source": [
    "harga_buku = 20000\n",
    "harga_majalah = 5000\n",
    "# uang = 2000\n",
    "uang = 20000\n",
    "\n",
    "print('uang :', uang)\n",
    "print('harga buku :', harga_buku)\n",
    "\n",
    "# if uang > harga_buku:\n",
    "if uang >= harga_buku:\n",
    "\tprint('beli buku')\n",
    "else:\n",
    "\tprint('uang tidak cukup')\n"
   ]
  },
  {
   "cell_type": "code",
   "execution_count": 21,
   "id": "43c2e9f6",
   "metadata": {},
   "outputs": [
    {
     "name": "stdout",
     "output_type": "stream",
     "text": [
      "e\n"
     ]
    }
   ],
   "source": [
    "# a b c d e\n",
    "# >80, >60, >40, >20, >0\n",
    "\n",
    "nilai = 90\n",
    "if nilai > 0:\n",
    "\tprint('e')\n",
    "elif nilai > 20:\n",
    "\tprint('d')\n",
    "elif nilai > 40:\n",
    "\tprint('c')\n",
    "elif nilai > 60:\n",
    "\tprint('b')\n",
    "elif nilai > 80:\n",
    "\tprint('a')\n",
    "# ..\n",
    "# nilai > 40\n",
    "# nilai > 60\n",
    "# nilai > 80\n"
   ]
  },
  {
   "cell_type": "code",
   "execution_count": 22,
   "id": "2c043e7a",
   "metadata": {},
   "outputs": [
    {
     "name": "stdout",
     "output_type": "stream",
     "text": [
      "a\n"
     ]
    }
   ],
   "source": [
    "# a b c d e\n",
    "# >80, >60, >40, >20, >0\n",
    "\n",
    "nilai = 90\n",
    "if nilai > 80:\n",
    "\tprint('a')\n",
    "elif nilai > 60:\n",
    "\tprint('b')\n",
    "elif nilai > 40:\n",
    "\tprint('c')\n",
    "elif nilai > 20:\n",
    "\tprint('d')\n",
    "elif nilai > 0:\n",
    "    print('e')"
   ]
  },
  {
   "cell_type": "code",
   "execution_count": 23,
   "id": "50bb883f",
   "metadata": {},
   "outputs": [
    {
     "name": "stdout",
     "output_type": "stream",
     "text": [
      "1\n",
      "2\n",
      "3\n"
     ]
    }
   ],
   "source": [
    "#From this\n",
    "if 'f' in 'foo':\n",
    "\tprint('1')\n",
    "\tprint('2')\n",
    "\tprint('3')\n"
   ]
  },
  {
   "cell_type": "code",
   "execution_count": 24,
   "id": "de3b63a1",
   "metadata": {},
   "outputs": [
    {
     "name": "stdout",
     "output_type": "stream",
     "text": [
      "corge\n",
      "grault\n"
     ]
    }
   ],
   "source": [
    "x = 2\n",
    "x = 3\n",
    "\n",
    "if x == 1: print('foo'); print('bar'); print('baz')\n",
    "elif x == 2: print('qux'); print('quux')\n",
    "else: print('corge'); print('grault')\n"
   ]
  },
  {
   "cell_type": "code",
   "execution_count": 25,
   "id": "78da8ae1",
   "metadata": {},
   "outputs": [
    {
     "name": "stdout",
     "output_type": "stream",
     "text": [
      "Let's go to the beach\n"
     ]
    }
   ],
   "source": [
    "raining = False\n",
    "print(\"Let's go to the\", 'beach' if not raining else 'library')"
   ]
  },
  {
   "cell_type": "code",
   "execution_count": 26,
   "id": "6f305024",
   "metadata": {},
   "outputs": [
    {
     "name": "stdout",
     "output_type": "stream",
     "text": [
      "Let's go to the beach\n"
     ]
    }
   ],
   "source": [
    "raining = False\n",
    "\n",
    "place = \"\"\n",
    "if not raining:\n",
    "\tplace = 'beach'\n",
    "else:\n",
    "\tplace = 'library'\n",
    "\n",
    "print(\"Let's go to the\", place)\n"
   ]
  },
  {
   "cell_type": "code",
   "execution_count": 27,
   "id": "d7427ccd",
   "metadata": {},
   "outputs": [
    {
     "name": "stdout",
     "output_type": "stream",
     "text": [
      "True\n"
     ]
    }
   ],
   "source": [
    "Raining = False\n",
    "print(not raining)\n",
    "# \tnot False\n",
    "# True"
   ]
  },
  {
   "cell_type": "code",
   "execution_count": 28,
   "id": "a4aabf8a",
   "metadata": {},
   "outputs": [
    {
     "name": "stdout",
     "output_type": "stream",
     "text": [
      "True\n"
     ]
    }
   ],
   "source": [
    "Raining = True\n",
    "print(not raining)\n",
    "# \tnot True\n",
    "# False\n"
   ]
  },
  {
   "cell_type": "code",
   "execution_count": 29,
   "id": "b8dd9009",
   "metadata": {},
   "outputs": [
    {
     "name": "stdout",
     "output_type": "stream",
     "text": [
      "4\n",
      "3\n",
      "2\n",
      "1\n",
      "0\n"
     ]
    }
   ],
   "source": [
    "n = 5\n",
    "while n > 0:   # 5 > 0?, 4, 3, 2, 1, 0 > 0? False\n",
    "\tn -= 1 \t# 4 3 2 1 0 x\n",
    "\tprint(n)   # 4 3 2 1 0 x\n"
   ]
  },
  {
   "cell_type": "code",
   "execution_count": 30,
   "id": "1fe402c4",
   "metadata": {},
   "outputs": [
    {
     "name": "stdout",
     "output_type": "stream",
     "text": [
      "1\n",
      "2\n",
      "3\n",
      "4\n",
      "5\n"
     ]
    }
   ],
   "source": [
    "i = 1\n",
    "while i < 6:  # 1, 2, 3, 4, 5, 6< 6? False\n",
    "  print(i)\t# 1  2  3  4  5\n",
    "  i += 1  \t# 2  3  4  5  6"
   ]
  },
  {
   "cell_type": "code",
   "execution_count": 33,
   "id": "845712d0",
   "metadata": {},
   "outputs": [
    {
     "name": "stdout",
     "output_type": "stream",
     "text": [
      "4\n",
      "3\n",
      "Loop ended.\n"
     ]
    }
   ],
   "source": [
    "n = 5\n",
    "while n > 0:                \t# 5 4 3\n",
    "    n -= 1                  \t# 4 3 2\n",
    "    if n == 2:              \t# F F T\n",
    "        break # Break Statement # S S break\n",
    "    print(n)                \t# 4 3 xx\n",
    "print('Loop ended.')"
   ]
  },
  {
   "cell_type": "code",
   "execution_count": 35,
   "id": "b2e41734",
   "metadata": {},
   "outputs": [
    {
     "name": "stdout",
     "output_type": "stream",
     "text": [
      "4\n",
      "3\n",
      "1\n",
      "0\n",
      "Loop ended.\n"
     ]
    }
   ],
   "source": [
    "n = 5\n",
    "while n > 0:          \t# 5 4 3 2 1 0>0? False\n",
    "\tn -= 1            \t# 4 3 2 1 0\n",
    "\tif n == 2:        \t# F F T F F\n",
    "\t\tcontinue      \t# S S C S S\n",
    "   \t \n",
    "\tprint(n)          \t# 4 3   1 0\n",
    "    \n",
    "print('Loop ended.') # thiss\n"
   ]
  },
  {
   "cell_type": "code",
   "execution_count": 36,
   "id": "87cdaf72",
   "metadata": {},
   "outputs": [
    {
     "name": "stdout",
     "output_type": "stream",
     "text": [
      "9\n",
      "-----\n",
      "8\n",
      "-----\n",
      "7\n",
      "-----\n",
      "6\n",
      "-----\n",
      "5\n",
      "-----\n",
      "4\n",
      "3\n",
      "-----\n",
      "Loop ended.\n"
     ]
    }
   ],
   "source": [
    "n = 10\n",
    "while n > 0:\n",
    "\tn -= 1\n",
    "    \n",
    "\tif n == 2:\n",
    "\t\tbreak # Break Statement\n",
    "   \t \n",
    "\tprint(n)\n",
    "    \n",
    "\tif n == 4:\n",
    "\t\tcontinue\n",
    "    \n",
    "\tprint('-' * 5)\n",
    "    \n",
    "    \n",
    "print('Loop ended.')\n"
   ]
  },
  {
   "cell_type": "code",
   "execution_count": 38,
   "id": "8db93047",
   "metadata": {},
   "outputs": [
    {
     "name": "stdout",
     "output_type": "stream",
     "text": [
      "foo\n",
      "> baz\n",
      "> qux\n",
      "bar\n",
      "> baz\n",
      "> qux\n"
     ]
    }
   ],
   "source": [
    "a = ['foo', 'bar']\n",
    "\n",
    "while len(a):      \t# 2\n",
    "\tprint(a.pop(0))\t# ['foo'], sisa ['bar']\n",
    "    \n",
    "\tb = ['baz', 'qux']\n",
    "    \n",
    "\twhile len(b):  \t# 2 1 0\n",
    "\t\tprint('>', b.pop(0)) # >['baz'], sisa ['qux'] || >['qux'], sisa []"
   ]
  },
  {
   "cell_type": "code",
   "execution_count": 40,
   "id": "088f3047",
   "metadata": {},
   "outputs": [
    {
     "name": "stdout",
     "output_type": "stream",
     "text": [
      "foo\n",
      "> baz\n",
      "> qux\n",
      "bar\n",
      "> baz\n",
      "> qux\n"
     ]
    }
   ],
   "source": [
    "a = ['foo', 'bar']\n",
    "# a = ['bar']\n",
    "# a = []\n",
    "\n",
    "while len(a):             \t# 2           \t1           \t0 False\n",
    "\tprint(a.pop(0))       \t# foo         \tbar\n",
    "    \n",
    "\tb = ['baz', 'qux']\n",
    "\t# b = ['qux']\n",
    "\t# b = []\n",
    "    \n",
    "\twhile len(b):         \t# 2  \t1    \t2  \t1\n",
    "\t\tprint('>', b.pop(0))  # >baz   >qux \t>baz   > qux"
   ]
  },
  {
   "cell_type": "code",
   "execution_count": 41,
   "id": "ae1aa6ac",
   "metadata": {},
   "outputs": [
    {
     "name": "stdout",
     "output_type": "stream",
     "text": [
      "i  0\n",
      "j  1\n",
      "j  2\n",
      "will break loop using j counter\n",
      "i  1\n",
      "j  1\n",
      "j  2\n",
      "will break loop using j counter\n",
      "will break loop using i counter\n"
     ]
    }
   ],
   "source": [
    "i = 0\n",
    "while i < 4:\n",
    "\tprint('i ', i)\n",
    "    \n",
    "\tj = 1\n",
    "\twhile j < 5:\n",
    "\t\tprint('j ', j)\n",
    "\t\tif j == 2:\n",
    "\t\t\tprint('will break loop using j counter')\n",
    "\t\t\tbreak\n",
    "   \t \n",
    "\t\tj += 1\n",
    "    \n",
    "\tif i == 1:\n",
    "\t\tprint('will break loop using i counter')\n",
    "\t\tbreak\n",
    "\ti+=1\n"
   ]
  },
  {
   "cell_type": "code",
   "execution_count": 42,
   "id": "3dbce820",
   "metadata": {},
   "outputs": [
    {
     "name": "stdout",
     "output_type": "stream",
     "text": [
      "0\n",
      "1\n",
      "2\n",
      "3\n",
      "4\n",
      "5\n",
      "6\n",
      "7\n",
      "8\n",
      "9\n",
      "10\n"
     ]
    }
   ],
   "source": [
    "# in another PL::  for i = 0 to 10\n",
    "for i in range(11):\n",
    "\tprint(i)\n"
   ]
  },
  {
   "cell_type": "code",
   "execution_count": 43,
   "id": "8f7806f9",
   "metadata": {},
   "outputs": [
    {
     "name": "stdout",
     "output_type": "stream",
     "text": [
      "1\n",
      "2\n",
      "3\n",
      "4\n",
      "5\n",
      "6\n",
      "7\n",
      "8\n",
      "9\n",
      "10\n"
     ]
    }
   ],
   "source": [
    "# in another PL:: for i = 1 to 10\n",
    "for i in range(1, 11):\n",
    "\tprint(i)\n"
   ]
  },
  {
   "cell_type": "code",
   "execution_count": null,
   "id": "31a661c5",
   "metadata": {},
   "outputs": [],
   "source": []
  }
 ],
 "metadata": {
  "kernelspec": {
   "display_name": "Python 3 (ipykernel)",
   "language": "python",
   "name": "python3"
  },
  "language_info": {
   "codemirror_mode": {
    "name": "ipython",
    "version": 3
   },
   "file_extension": ".py",
   "mimetype": "text/x-python",
   "name": "python",
   "nbconvert_exporter": "python",
   "pygments_lexer": "ipython3",
   "version": "3.9.12"
  }
 },
 "nbformat": 4,
 "nbformat_minor": 5
}
