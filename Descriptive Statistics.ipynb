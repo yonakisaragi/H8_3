{
 "cells": [
  {
   "cell_type": "code",
   "execution_count": 1,
   "id": "4fc43e0e",
   "metadata": {},
   "outputs": [],
   "source": [
    "import math\n",
    "import statistics\n",
    "import numpy as np\n",
    "import scipy.stats\n",
    "import pandas as pd"
   ]
  },
  {
   "cell_type": "code",
   "execution_count": 3,
   "id": "2ffedc74",
   "metadata": {},
   "outputs": [
    {
     "name": "stdout",
     "output_type": "stream",
     "text": [
      "[8.0, 1, 2.5, 4, 28.0]\n",
      "[8.0, 1, 2.5, nan, 4, 28.0]\n"
     ]
    }
   ],
   "source": [
    "x = [8.0, 1, 2.5, 4, 28.0]\n",
    "x_with_nan = [8.0, 1, 2.5, math.nan, 4, 28.0]\n",
    "print(x)\n",
    "print(x_with_nan)"
   ]
  },
  {
   "cell_type": "code",
   "execution_count": 5,
   "id": "ca731dce",
   "metadata": {},
   "outputs": [
    {
     "name": "stdout",
     "output_type": "stream",
     "text": [
      "[ 8.   1.   2.5  4.  28. ]\n",
      "[ 8.   1.   2.5  nan  4.  28. ]\n",
      "0     8.0\n",
      "1     1.0\n",
      "2     2.5\n",
      "3     NaN\n",
      "4     4.0\n",
      "5    28.0\n",
      "dtype: float64\n"
     ]
    }
   ],
   "source": [
    "y, y_with_nan = np.array(x), np.array(x_with_nan)\n",
    "z, z_with_nan = pd.Series(x), pd.Series(x_with_nan)\n",
    "print(y)\n",
    "print(y_with_nan)\n",
    "print(z_with_nan)"
   ]
  },
  {
   "cell_type": "code",
   "execution_count": 6,
   "id": "3bec9219",
   "metadata": {},
   "outputs": [
    {
     "data": {
      "text/plain": [
       "8.7"
      ]
     },
     "execution_count": 6,
     "metadata": {},
     "output_type": "execute_result"
    }
   ],
   "source": [
    "mean_ = sum(x)/len(x)\n",
    "mean_"
   ]
  },
  {
   "cell_type": "code",
   "execution_count": 7,
   "id": "8410607c",
   "metadata": {},
   "outputs": [
    {
     "name": "stdout",
     "output_type": "stream",
     "text": [
      "8.7\n"
     ]
    }
   ],
   "source": [
    "mean_ = statistics.mean(x)\n",
    "print(mean_)"
   ]
  },
  {
   "cell_type": "code",
   "execution_count": 8,
   "id": "8ab5b4be",
   "metadata": {},
   "outputs": [
    {
     "name": "stdout",
     "output_type": "stream",
     "text": [
      "nan\n"
     ]
    }
   ],
   "source": [
    "mean_ = statistics.mean(x_with_nan)\n",
    "print(mean_)"
   ]
  },
  {
   "cell_type": "code",
   "execution_count": 9,
   "id": "57b61bb4",
   "metadata": {},
   "outputs": [
    {
     "data": {
      "text/plain": [
       "8.7"
      ]
     },
     "execution_count": 9,
     "metadata": {},
     "output_type": "execute_result"
    }
   ],
   "source": [
    "mean_ = np.mean(y)\n",
    "mean_"
   ]
  },
  {
   "cell_type": "code",
   "execution_count": 10,
   "id": "52f172f0",
   "metadata": {},
   "outputs": [
    {
     "data": {
      "text/plain": [
       "8.7"
      ]
     },
     "execution_count": 10,
     "metadata": {},
     "output_type": "execute_result"
    }
   ],
   "source": [
    "mean_ = y.mean()\n",
    "mean_"
   ]
  },
  {
   "cell_type": "code",
   "execution_count": 11,
   "id": "0f0819bc",
   "metadata": {},
   "outputs": [
    {
     "name": "stdout",
     "output_type": "stream",
     "text": [
      "nan\n",
      "nan\n"
     ]
    }
   ],
   "source": [
    "print(np.mean(y_with_nan))\n",
    "print(y_with_nan.mean())"
   ]
  },
  {
   "cell_type": "code",
   "execution_count": 12,
   "id": "1072d2b4",
   "metadata": {},
   "outputs": [
    {
     "data": {
      "text/plain": [
       "8.7"
      ]
     },
     "execution_count": 12,
     "metadata": {},
     "output_type": "execute_result"
    }
   ],
   "source": [
    "np.nanmean(y_with_nan)"
   ]
  },
  {
   "cell_type": "code",
   "execution_count": 13,
   "id": "ba588e11",
   "metadata": {},
   "outputs": [
    {
     "data": {
      "text/plain": [
       "8.7"
      ]
     },
     "execution_count": 13,
     "metadata": {},
     "output_type": "execute_result"
    }
   ],
   "source": [
    "mean_ = z.mean()\n",
    "mean_"
   ]
  },
  {
   "cell_type": "code",
   "execution_count": 14,
   "id": "7fd30390",
   "metadata": {},
   "outputs": [
    {
     "data": {
      "text/plain": [
       "8.7"
      ]
     },
     "execution_count": 14,
     "metadata": {},
     "output_type": "execute_result"
    }
   ],
   "source": [
    "z_with_nan.mean()"
   ]
  },
  {
   "cell_type": "code",
   "execution_count": 15,
   "id": "27609a6d",
   "metadata": {},
   "outputs": [
    {
     "name": "stdout",
     "output_type": "stream",
     "text": [
      "6.95\n",
      "6.95\n"
     ]
    }
   ],
   "source": [
    "x = [8.0, 1, 2.5, 4, 28.0]\n",
    "w = [0.1, 0.2, 0.3, 0.25, 0.15]\n",
    "\n",
    "wmean = sum(w[i] * x[i] for i in range(len(x))) / sum(w)\n",
    "print(wmean)\n",
    "\n",
    "wmean = sum(x_ * w_ for (x_, w_) in zip(x, w)) / sum(w)\n",
    "print(wmean)\n"
   ]
  },
  {
   "cell_type": "code",
   "execution_count": 16,
   "id": "e847b88f",
   "metadata": {},
   "outputs": [
    {
     "name": "stdout",
     "output_type": "stream",
     "text": [
      "6.95\n",
      "6.95\n"
     ]
    }
   ],
   "source": [
    "y, z, w = np.array(x), pd.Series(x), np.array(w)\n",
    "\n",
    "wmean = np.average(y, weights=w)\n",
    "print(wmean)\n",
    "\n",
    "wmean = np.average(z, weights=w)\n",
    "print(wmean)\n"
   ]
  },
  {
   "cell_type": "code",
   "execution_count": 17,
   "id": "4cf5a8cd",
   "metadata": {},
   "outputs": [
    {
     "data": {
      "text/plain": [
       "2.7613412228796843"
      ]
     },
     "execution_count": 17,
     "metadata": {},
     "output_type": "execute_result"
    }
   ],
   "source": [
    "hmean = len(x)/sum(1/item for item in x)\n",
    "hmean"
   ]
  },
  {
   "cell_type": "code",
   "execution_count": 18,
   "id": "7b7e4139",
   "metadata": {},
   "outputs": [
    {
     "data": {
      "text/plain": [
       "2.7613412228796843"
      ]
     },
     "execution_count": 18,
     "metadata": {},
     "output_type": "execute_result"
    }
   ],
   "source": [
    "hmean = statistics.harmonic_mean(x)\n",
    "hmean"
   ]
  },
  {
   "cell_type": "code",
   "execution_count": 19,
   "id": "aef5a70d",
   "metadata": {},
   "outputs": [
    {
     "data": {
      "text/plain": [
       "2.7613412228796843"
      ]
     },
     "execution_count": 19,
     "metadata": {},
     "output_type": "execute_result"
    }
   ],
   "source": [
    "scipy.stats.hmean(x)"
   ]
  },
  {
   "cell_type": "code",
   "execution_count": 20,
   "id": "92b70856",
   "metadata": {},
   "outputs": [
    {
     "data": {
      "text/plain": [
       "4.677885674856041"
      ]
     },
     "execution_count": 20,
     "metadata": {},
     "output_type": "execute_result"
    }
   ],
   "source": [
    "gmean = 1\n",
    "\n",
    "for item in x:\n",
    "    gmean *= item\n",
    "\n",
    "gmean **= 1 / len(x)\n",
    "gmean\n"
   ]
  },
  {
   "cell_type": "code",
   "execution_count": 21,
   "id": "f59868c0",
   "metadata": {},
   "outputs": [
    {
     "data": {
      "text/plain": [
       "4.67788567485604"
      ]
     },
     "execution_count": 21,
     "metadata": {},
     "output_type": "execute_result"
    }
   ],
   "source": [
    "scipy.stats.gmean(y)"
   ]
  },
  {
   "cell_type": "code",
   "execution_count": 22,
   "id": "865be652",
   "metadata": {},
   "outputs": [
    {
     "data": {
      "text/plain": [
       "4.67788567485604"
      ]
     },
     "execution_count": 22,
     "metadata": {},
     "output_type": "execute_result"
    }
   ],
   "source": [
    "scipy.stats.gmean(z)"
   ]
  },
  {
   "cell_type": "code",
   "execution_count": 23,
   "id": "0cf3322c",
   "metadata": {},
   "outputs": [
    {
     "data": {
      "text/plain": [
       "4"
      ]
     },
     "execution_count": 23,
     "metadata": {},
     "output_type": "execute_result"
    }
   ],
   "source": [
    "n = len(x)\n",
    "if n % 2:\n",
    "    median_ = sorted(x)[round(0.5*(n-1))]\n",
    "else:\n",
    "    x_ord, index = sorted(x), round(0.5 * n)\n",
    "    median_ = 0.5 * (x_ord[index-1] + x_ord[index])\n",
    "\n",
    "median_\n"
   ]
  },
  {
   "cell_type": "code",
   "execution_count": 24,
   "id": "8eb1eacc",
   "metadata": {},
   "outputs": [
    {
     "data": {
      "text/plain": [
       "2.5"
      ]
     },
     "execution_count": 24,
     "metadata": {},
     "output_type": "execute_result"
    }
   ],
   "source": [
    "statistics.median_low(x[:-1])"
   ]
  },
  {
   "cell_type": "code",
   "execution_count": 25,
   "id": "73bab2db",
   "metadata": {},
   "outputs": [
    {
     "data": {
      "text/plain": [
       "4"
      ]
     },
     "execution_count": 25,
     "metadata": {},
     "output_type": "execute_result"
    }
   ],
   "source": [
    "statistics.median_high(x[:-1])"
   ]
  },
  {
   "cell_type": "code",
   "execution_count": 26,
   "id": "1e10cc5f",
   "metadata": {},
   "outputs": [
    {
     "name": "stdout",
     "output_type": "stream",
     "text": [
      "4.0\n"
     ]
    }
   ],
   "source": [
    "median_ = np.median(y)\n",
    "print(median_)\n"
   ]
  },
  {
   "cell_type": "code",
   "execution_count": 27,
   "id": "a711dad4",
   "metadata": {},
   "outputs": [
    {
     "data": {
      "text/plain": [
       "2"
      ]
     },
     "execution_count": 27,
     "metadata": {},
     "output_type": "execute_result"
    }
   ],
   "source": [
    "u = [2, 3, 2, 8, 12]\n",
    "\n",
    "v = [12, 15, 12, 15, 21, 15, 12]\n",
    "\n",
    "mode_ = max((u.count(item), item) for item in set(u))[1]\n",
    "mode_\n"
   ]
  },
  {
   "cell_type": "code",
   "execution_count": 28,
   "id": "a4f50baf",
   "metadata": {},
   "outputs": [
    {
     "data": {
      "text/plain": [
       "2"
      ]
     },
     "execution_count": 28,
     "metadata": {},
     "output_type": "execute_result"
    }
   ],
   "source": [
    "mode_ = statistics.mode(u)\n",
    "mode_\n"
   ]
  },
  {
   "cell_type": "code",
   "execution_count": 29,
   "id": "4dd12852",
   "metadata": {},
   "outputs": [
    {
     "data": {
      "text/plain": [
       "ModeResult(mode=array([2]), count=array([2]))"
      ]
     },
     "execution_count": 29,
     "metadata": {},
     "output_type": "execute_result"
    }
   ],
   "source": [
    "u, v = np.array(u), np.array(v)\n",
    "\n",
    "mode_ = scipy.stats.mode(u)\n",
    "mode_\n"
   ]
  },
  {
   "cell_type": "code",
   "execution_count": 30,
   "id": "24f642b7",
   "metadata": {},
   "outputs": [
    {
     "data": {
      "text/plain": [
       "array([2])"
      ]
     },
     "execution_count": 30,
     "metadata": {},
     "output_type": "execute_result"
    }
   ],
   "source": [
    "mode_.mode"
   ]
  },
  {
   "cell_type": "code",
   "execution_count": 31,
   "id": "497cb58c",
   "metadata": {},
   "outputs": [
    {
     "data": {
      "text/plain": [
       "array([2])"
      ]
     },
     "execution_count": 31,
     "metadata": {},
     "output_type": "execute_result"
    }
   ],
   "source": [
    "mode_.count"
   ]
  },
  {
   "cell_type": "code",
   "execution_count": 32,
   "id": "f5d77941",
   "metadata": {},
   "outputs": [
    {
     "name": "stdout",
     "output_type": "stream",
     "text": [
      "0    2\n",
      "dtype: int32\n",
      "0    12\n",
      "1    15\n",
      "dtype: int32\n",
      "0    2.0\n",
      "dtype: float64\n"
     ]
    }
   ],
   "source": [
    "u, v, w = pd.Series(u), pd.Series(v), pd.Series([2, 2, math.nan])\n",
    "\n",
    "#print(u, v, w)\n",
    "\n",
    "print(u.mode())\n",
    "\n",
    "print(v.mode())\n",
    "\n",
    "print(w.mode())\n"
   ]
  },
  {
   "cell_type": "code",
   "execution_count": 33,
   "id": "88b57bbd",
   "metadata": {},
   "outputs": [
    {
     "data": {
      "text/plain": [
       "123.19999999999999"
      ]
     },
     "execution_count": 33,
     "metadata": {},
     "output_type": "execute_result"
    }
   ],
   "source": [
    "n = len(x)\n",
    "mean_ = sum(x)/n\n",
    "var_ = sum((item-mean_)**2 for item in x) / (n-1)\n",
    "var_"
   ]
  },
  {
   "cell_type": "code",
   "execution_count": 34,
   "id": "423d0de1",
   "metadata": {},
   "outputs": [
    {
     "data": {
      "text/plain": [
       "123.2"
      ]
     },
     "execution_count": 34,
     "metadata": {},
     "output_type": "execute_result"
    }
   ],
   "source": [
    "var_ = statistics.variance(x)\n",
    "var_"
   ]
  },
  {
   "cell_type": "code",
   "execution_count": 35,
   "id": "60100c38",
   "metadata": {},
   "outputs": [
    {
     "data": {
      "text/plain": [
       "123.19999999999999"
      ]
     },
     "execution_count": 35,
     "metadata": {},
     "output_type": "execute_result"
    }
   ],
   "source": [
    "var_ = np.var(y, ddof=1)\n",
    "var_"
   ]
  },
  {
   "cell_type": "code",
   "execution_count": 36,
   "id": "f8dc59a0",
   "metadata": {},
   "outputs": [
    {
     "data": {
      "text/plain": [
       "123.19999999999999"
      ]
     },
     "execution_count": 36,
     "metadata": {},
     "output_type": "execute_result"
    }
   ],
   "source": [
    "var_ = y.var(ddof=1)\n",
    "var_"
   ]
  },
  {
   "cell_type": "code",
   "execution_count": 37,
   "id": "b0118f91",
   "metadata": {},
   "outputs": [
    {
     "data": {
      "text/plain": [
       "123.19999999999999"
      ]
     },
     "execution_count": 37,
     "metadata": {},
     "output_type": "execute_result"
    }
   ],
   "source": [
    "z.var(ddof=1)"
   ]
  },
  {
   "cell_type": "code",
   "execution_count": 38,
   "id": "1389d81e",
   "metadata": {},
   "outputs": [
    {
     "data": {
      "text/plain": [
       "123.19999999999999"
      ]
     },
     "execution_count": 38,
     "metadata": {},
     "output_type": "execute_result"
    }
   ],
   "source": [
    "z_with_nan.var(ddof=1, skipna=True)"
   ]
  },
  {
   "cell_type": "code",
   "execution_count": 39,
   "id": "f746ac90",
   "metadata": {},
   "outputs": [
    {
     "data": {
      "text/plain": [
       "98.55999999999999"
      ]
     },
     "execution_count": 39,
     "metadata": {},
     "output_type": "execute_result"
    }
   ],
   "source": [
    "n = len(x)\n",
    "\n",
    "mean_ = sum(x) / n\n",
    "\n",
    "var_ = sum((item - mean_)**2 for item in x) / (n )\n",
    "var_\n"
   ]
  },
  {
   "cell_type": "code",
   "execution_count": 40,
   "id": "a9f37ca1",
   "metadata": {},
   "outputs": [
    {
     "data": {
      "text/plain": [
       "98.56"
      ]
     },
     "execution_count": 40,
     "metadata": {},
     "output_type": "execute_result"
    }
   ],
   "source": [
    "var_ = statistics.pvariance(x)\n",
    "var_"
   ]
  },
  {
   "cell_type": "code",
   "execution_count": 41,
   "id": "bbbf1561",
   "metadata": {},
   "outputs": [
    {
     "data": {
      "text/plain": [
       "98.55999999999999"
      ]
     },
     "execution_count": 41,
     "metadata": {},
     "output_type": "execute_result"
    }
   ],
   "source": [
    "var_ = np.var(y, ddof=0)\n",
    "var_\n"
   ]
  },
  {
   "cell_type": "code",
   "execution_count": 42,
   "id": "a3f6c94b",
   "metadata": {},
   "outputs": [
    {
     "data": {
      "text/plain": [
       "98.55999999999999"
      ]
     },
     "execution_count": 42,
     "metadata": {},
     "output_type": "execute_result"
    }
   ],
   "source": [
    "z.var(ddof=0)"
   ]
  },
  {
   "cell_type": "code",
   "execution_count": 45,
   "id": "1f7b59b8",
   "metadata": {},
   "outputs": [
    {
     "data": {
      "text/plain": [
       "9.927738916792684"
      ]
     },
     "execution_count": 45,
     "metadata": {},
     "output_type": "execute_result"
    }
   ],
   "source": [
    "std_ = var_ ** 0.5\n",
    "std_"
   ]
  },
  {
   "cell_type": "code",
   "execution_count": 46,
   "id": "5022de2b",
   "metadata": {},
   "outputs": [
    {
     "data": {
      "text/plain": [
       "11.099549540409287"
      ]
     },
     "execution_count": 46,
     "metadata": {},
     "output_type": "execute_result"
    }
   ],
   "source": [
    "std_ = statistics.stdev(x)\n",
    "std_\n"
   ]
  },
  {
   "cell_type": "code",
   "execution_count": 47,
   "id": "9eca5e73",
   "metadata": {},
   "outputs": [
    {
     "data": {
      "text/plain": [
       "11.099549540409285"
      ]
     },
     "execution_count": 47,
     "metadata": {},
     "output_type": "execute_result"
    }
   ],
   "source": [
    "std_ = np.std(y, ddof=1)\n",
    "# std = y.std(ddof=1)\n",
    "std_\n"
   ]
  },
  {
   "cell_type": "code",
   "execution_count": 48,
   "id": "8619126f",
   "metadata": {},
   "outputs": [
    {
     "data": {
      "text/plain": [
       "1.9470432273905929"
      ]
     },
     "execution_count": 48,
     "metadata": {},
     "output_type": "execute_result"
    }
   ],
   "source": [
    "x = [8.0, 1, 2.5, 4, 28.0]\n",
    "\n",
    "n = len(x)\n",
    "\n",
    "mean_ = sum(x) / n\n",
    "var_ = sum((item - mean_)**2 for item in x) / (n-1)\n",
    "std_ = var_ ** 0.5\n",
    "\n",
    "skew_ = (sum((item - mean_)**3 for item in x) * n / ((n - 1) * (n - 2) * std_**3))\n",
    "skew_\n"
   ]
  },
  {
   "cell_type": "code",
   "execution_count": 49,
   "id": "1fd46717",
   "metadata": {},
   "outputs": [
    {
     "data": {
      "text/plain": [
       "1.9470432273905927"
      ]
     },
     "execution_count": 49,
     "metadata": {},
     "output_type": "execute_result"
    }
   ],
   "source": [
    "# y\n",
    "# y _with_nan\n",
    "y, y_with_nan = np.array(x), np.array(x_with_nan)\n",
    "\n",
    "skew_ = scipy.stats.skew(y, bias=False)\n",
    "skew_\n",
    "\n"
   ]
  },
  {
   "cell_type": "code",
   "execution_count": 50,
   "id": "8774dbc4",
   "metadata": {},
   "outputs": [
    {
     "data": {
      "text/plain": [
       "masked_array(data=1.94704323,\n",
       "             mask=False,\n",
       "       fill_value=1e+20)"
      ]
     },
     "execution_count": 50,
     "metadata": {},
     "output_type": "execute_result"
    }
   ],
   "source": [
    "skew_ = scipy.stats.skew(y_with_nan, bias=False, nan_policy='omit')\n",
    "skew_\n"
   ]
  },
  {
   "cell_type": "code",
   "execution_count": 51,
   "id": "6b65c287",
   "metadata": {},
   "outputs": [
    {
     "ename": "ValueError",
     "evalue": "The input contains nan values",
     "output_type": "error",
     "traceback": [
      "\u001b[1;31m---------------------------------------------------------------------------\u001b[0m",
      "\u001b[1;31mValueError\u001b[0m                                Traceback (most recent call last)",
      "Input \u001b[1;32mIn [51]\u001b[0m, in \u001b[0;36m<cell line: 2>\u001b[1;34m()\u001b[0m\n\u001b[0;32m      1\u001b[0m \u001b[38;5;66;03m#intentionally raise error\u001b[39;00m\n\u001b[1;32m----> 2\u001b[0m skew_ \u001b[38;5;241m=\u001b[39m \u001b[43mscipy\u001b[49m\u001b[38;5;241;43m.\u001b[39;49m\u001b[43mstats\u001b[49m\u001b[38;5;241;43m.\u001b[39;49m\u001b[43mskew\u001b[49m\u001b[43m(\u001b[49m\u001b[43my_with_nan\u001b[49m\u001b[43m,\u001b[49m\u001b[43m \u001b[49m\u001b[43mbias\u001b[49m\u001b[38;5;241;43m=\u001b[39;49m\u001b[38;5;28;43;01mFalse\u001b[39;49;00m\u001b[43m,\u001b[49m\u001b[43m \u001b[49m\u001b[43mnan_policy\u001b[49m\u001b[38;5;241;43m=\u001b[39;49m\u001b[38;5;124;43m'\u001b[39;49m\u001b[38;5;124;43mraise\u001b[39;49m\u001b[38;5;124;43m'\u001b[39;49m\u001b[43m)\u001b[49m\n\u001b[0;32m      3\u001b[0m skew_\n",
      "File \u001b[1;32mD:\\Anaconda\\lib\\site-packages\\scipy\\stats\\stats.py:1101\u001b[0m, in \u001b[0;36mskew\u001b[1;34m(a, axis, bias, nan_policy)\u001b[0m\n\u001b[0;32m   1098\u001b[0m a, axis \u001b[38;5;241m=\u001b[39m _chk_asarray(a, axis)\n\u001b[0;32m   1099\u001b[0m n \u001b[38;5;241m=\u001b[39m a\u001b[38;5;241m.\u001b[39mshape[axis]\n\u001b[1;32m-> 1101\u001b[0m contains_nan, nan_policy \u001b[38;5;241m=\u001b[39m \u001b[43m_contains_nan\u001b[49m\u001b[43m(\u001b[49m\u001b[43ma\u001b[49m\u001b[43m,\u001b[49m\u001b[43m \u001b[49m\u001b[43mnan_policy\u001b[49m\u001b[43m)\u001b[49m\n\u001b[0;32m   1103\u001b[0m \u001b[38;5;28;01mif\u001b[39;00m contains_nan \u001b[38;5;129;01mand\u001b[39;00m nan_policy \u001b[38;5;241m==\u001b[39m \u001b[38;5;124m'\u001b[39m\u001b[38;5;124momit\u001b[39m\u001b[38;5;124m'\u001b[39m:\n\u001b[0;32m   1104\u001b[0m     a \u001b[38;5;241m=\u001b[39m ma\u001b[38;5;241m.\u001b[39mmasked_invalid(a)\n",
      "File \u001b[1;32mD:\\Anaconda\\lib\\site-packages\\scipy\\stats\\stats.py:104\u001b[0m, in \u001b[0;36m_contains_nan\u001b[1;34m(a, nan_policy)\u001b[0m\n\u001b[0;32m     99\u001b[0m         warnings\u001b[38;5;241m.\u001b[39mwarn(\u001b[38;5;124m\"\u001b[39m\u001b[38;5;124mThe input array could not be properly \u001b[39m\u001b[38;5;124m\"\u001b[39m\n\u001b[0;32m    100\u001b[0m                       \u001b[38;5;124m\"\u001b[39m\u001b[38;5;124mchecked for nan values. nan values \u001b[39m\u001b[38;5;124m\"\u001b[39m\n\u001b[0;32m    101\u001b[0m                       \u001b[38;5;124m\"\u001b[39m\u001b[38;5;124mwill be ignored.\u001b[39m\u001b[38;5;124m\"\u001b[39m, \u001b[38;5;167;01mRuntimeWarning\u001b[39;00m)\n\u001b[0;32m    103\u001b[0m \u001b[38;5;28;01mif\u001b[39;00m contains_nan \u001b[38;5;129;01mand\u001b[39;00m nan_policy \u001b[38;5;241m==\u001b[39m \u001b[38;5;124m'\u001b[39m\u001b[38;5;124mraise\u001b[39m\u001b[38;5;124m'\u001b[39m:\n\u001b[1;32m--> 104\u001b[0m     \u001b[38;5;28;01mraise\u001b[39;00m \u001b[38;5;167;01mValueError\u001b[39;00m(\u001b[38;5;124m\"\u001b[39m\u001b[38;5;124mThe input contains nan values\u001b[39m\u001b[38;5;124m\"\u001b[39m)\n\u001b[0;32m    106\u001b[0m \u001b[38;5;28;01mreturn\u001b[39;00m contains_nan, nan_policy\n",
      "\u001b[1;31mValueError\u001b[0m: The input contains nan values"
     ]
    }
   ],
   "source": [
    "#intentionally raise error\n",
    "skew_ = scipy.stats.skew(y_with_nan, bias=False, nan_policy='raise')\n",
    "skew_\n"
   ]
  },
  {
   "cell_type": "code",
   "execution_count": 52,
   "id": "48b1fe76",
   "metadata": {},
   "outputs": [
    {
     "data": {
      "text/plain": [
       "nan"
      ]
     },
     "execution_count": 52,
     "metadata": {},
     "output_type": "execute_result"
    }
   ],
   "source": [
    "skew_ = scipy.stats.skew(y_with_nan, bias=False, nan_policy='propagate')\n",
    "skew_\n"
   ]
  },
  {
   "cell_type": "code",
   "execution_count": 53,
   "id": "f64f45ea",
   "metadata": {},
   "outputs": [
    {
     "data": {
      "text/plain": [
       "[8.0]"
      ]
     },
     "execution_count": 53,
     "metadata": {},
     "output_type": "execute_result"
    }
   ],
   "source": [
    "x = [-5.0, -1.1, 0.1, 2.0, 8.0, 12.8, 21.0, 25.8, 41.0]\n",
    "statistics.quantiles(x, n=2)"
   ]
  },
  {
   "cell_type": "code",
   "execution_count": 55,
   "id": "e316e824",
   "metadata": {},
   "outputs": [
    {
     "data": {
      "text/plain": [
       "34.919999999999995"
      ]
     },
     "execution_count": 55,
     "metadata": {},
     "output_type": "execute_result"
    }
   ],
   "source": [
    "y = np.array(x)\n",
    "np.percentile(y, 5)\n"
   ]
  },
  {
   "cell_type": "code",
   "execution_count": 56,
   "id": "46ff7665",
   "metadata": {},
   "outputs": [
    {
     "data": {
      "text/plain": [
       "34.919999999999995"
      ]
     },
     "execution_count": 56,
     "metadata": {},
     "output_type": "execute_result"
    }
   ],
   "source": [
    "np.percentile(y, 95)"
   ]
  },
  {
   "cell_type": "code",
   "execution_count": 57,
   "id": "6e599fa6",
   "metadata": {},
   "outputs": [
    {
     "name": "stdout",
     "output_type": "stream",
     "text": [
      "-3.44\n",
      "34.919999999999995\n",
      "[ 0.1  8.  21. ]\n",
      "[2.5 4.  8. ]\n"
     ]
    }
   ],
   "source": [
    "print(np.quantile(y, 0.05))\n",
    "print(np.quantile(y, 0.95))\n",
    "print(np.quantile(y, [0.25, 0.5, 0.75]))\n",
    "print(np.nanquantile(y_with_nan, [0.25, 0.5, 0.75]))\n"
   ]
  },
  {
   "cell_type": "code",
   "execution_count": 58,
   "id": "54af2fce",
   "metadata": {},
   "outputs": [
    {
     "name": "stdout",
     "output_type": "stream",
     "text": [
      "-3.44\n",
      "34.919999999999995\n",
      "0.25    0.1\n",
      "0.50    8.0\n",
      "dtype: float64\n"
     ]
    }
   ],
   "source": [
    "z, z_with_nan = pd.Series(y), pd.Series(y_with_nan)\n",
    "print(z.quantile(0.05))\n",
    "print(z.quantile(0.95))\n",
    "print(z.quantile([0.25, 0.5]))\n"
   ]
  },
  {
   "cell_type": "code",
   "execution_count": 61,
   "id": "c6d9e3c3",
   "metadata": {},
   "outputs": [
    {
     "data": {
      "text/plain": [
       "46.0"
      ]
     },
     "execution_count": 61,
     "metadata": {},
     "output_type": "execute_result"
    }
   ],
   "source": [
    "max(y) - min(y)"
   ]
  },
  {
   "cell_type": "code",
   "execution_count": 60,
   "id": "25d2ada5",
   "metadata": {},
   "outputs": [
    {
     "data": {
      "text/plain": [
       "46.0"
      ]
     },
     "execution_count": 60,
     "metadata": {},
     "output_type": "execute_result"
    }
   ],
   "source": [
    "np.ptp(y)"
   ]
  },
  {
   "cell_type": "code",
   "execution_count": 62,
   "id": "34c2bae0",
   "metadata": {},
   "outputs": [
    {
     "name": "stdout",
     "output_type": "stream",
     "text": [
      "[ 0.1 21. ]\n"
     ]
    },
    {
     "data": {
      "text/plain": [
       "20.9"
      ]
     },
     "execution_count": 62,
     "metadata": {},
     "output_type": "execute_result"
    }
   ],
   "source": [
    "quartiles = np.quantile(y, [0.25, 0.75])\n",
    "print(quartiles)\n",
    "quartiles[1] - quartiles[0]\n"
   ]
  },
  {
   "cell_type": "code",
   "execution_count": 65,
   "id": "3423767a",
   "metadata": {},
   "outputs": [
    {
     "name": "stdout",
     "output_type": "stream",
     "text": [
      "0.25     0.1\n",
      "0.75    21.0\n",
      "dtype: float64\n"
     ]
    },
    {
     "data": {
      "text/plain": [
       "20.9"
      ]
     },
     "execution_count": 65,
     "metadata": {},
     "output_type": "execute_result"
    }
   ],
   "source": [
    "quartiles = z.quantile([0.25, 0.75])\n",
    "print(quartiles)\n",
    "quartiles[0.75] - quartiles[0.25]\n"
   ]
  },
  {
   "cell_type": "code",
   "execution_count": 66,
   "id": "6dc3bc22",
   "metadata": {},
   "outputs": [
    {
     "data": {
      "text/plain": [
       "DescribeResult(nobs=9, minmax=(-5.0, 41.0), mean=11.622222222222222, variance=228.75194444444446, skewness=0.9249043136685094, kurtosis=0.14770623629658886)"
      ]
     },
     "execution_count": 66,
     "metadata": {},
     "output_type": "execute_result"
    }
   ],
   "source": [
    "result = scipy.stats.describe(y, ddof=1, bias=False)\n",
    "result\n"
   ]
  },
  {
   "cell_type": "code",
   "execution_count": 67,
   "id": "6de4f283",
   "metadata": {},
   "outputs": [
    {
     "data": {
      "text/plain": [
       "count     9.000000\n",
       "mean     11.622222\n",
       "std      15.124548\n",
       "min      -5.000000\n",
       "25%       0.100000\n",
       "50%       8.000000\n",
       "75%      21.000000\n",
       "max      41.000000\n",
       "dtype: float64"
      ]
     },
     "execution_count": 67,
     "metadata": {},
     "output_type": "execute_result"
    }
   ],
   "source": [
    "result = z.describe()\n",
    "result\n"
   ]
  },
  {
   "cell_type": "code",
   "execution_count": null,
   "id": "16622668",
   "metadata": {},
   "outputs": [],
   "source": []
  }
 ],
 "metadata": {
  "kernelspec": {
   "display_name": "Python 3 (ipykernel)",
   "language": "python",
   "name": "python3"
  },
  "language_info": {
   "codemirror_mode": {
    "name": "ipython",
    "version": 3
   },
   "file_extension": ".py",
   "mimetype": "text/x-python",
   "name": "python",
   "nbconvert_exporter": "python",
   "pygments_lexer": "ipython3",
   "version": "3.9.12"
  },
  "toc": {
   "base_numbering": 1,
   "nav_menu": {},
   "number_sections": true,
   "sideBar": true,
   "skip_h1_title": false,
   "title_cell": "Table of Contents",
   "title_sidebar": "Contents",
   "toc_cell": false,
   "toc_position": {},
   "toc_section_display": true,
   "toc_window_display": false
  }
 },
 "nbformat": 4,
 "nbformat_minor": 5
}
