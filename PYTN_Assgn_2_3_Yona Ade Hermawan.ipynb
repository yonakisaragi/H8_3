{
 "cells": [
  {
   "cell_type": "markdown",
   "id": "1a166508",
   "metadata": {
    "id": "1a166508"
   },
   "source": [
    "```\n",
    "Kalau kita buat listnya/summary dari perintah di module kode id :\n",
    "\n",
    "A. Measure of Central Tendency: Mean     (P/N/S)\n",
    "B. Measure of Central Tendency: Median   (P/N/S)\n",
    "C. Measure of Central Tendency: Modus    (P/N/S)\n",
    "D. Measure of Spread: Range              (P/N/S)\n",
    "E. Measure of Spread: Variance           (P/N/S)\n",
    "F. Measure of Spread: Standard Deviation (P/N/S)\n",
    "G. Probability Distribution              (+C)\n",
    "H. Confidence Intervals\n",
    "I. Hypothesis Testing                    (+C)\n",
    "\n",
    "*for each (A - I):\n",
    "- Question/what data we want to look up\n",
    "- Pre-processing as needed\n",
    "\n",
    "===\n",
    "Keterangan:\n",
    "(P/N/S) : Pandas / NumPy / Scipy\n",
    "(+C)    : +Conclusion (menarik informasi/kesimpulan)\n",
    "\n",
    "===\n",
    "(*)Untuk:\n",
    "- contoh question,  ada di page/halamannya Assignment 2 \"Examples of questions can be ...\"\n",
    "- more detail tentang dekripsi kolom pada dataset & special note tentang dataset, juga ada di halaman yang sama\n",
    "```"
   ]
  },
  {
   "cell_type": "code",
   "execution_count": 37,
   "id": "eb5029b3",
   "metadata": {},
   "outputs": [],
   "source": [
    "import numpy as np\n",
    "import pandas as pd\n",
    "import scipy.stats as stats\n",
    "import statistics\n",
    "import math"
   ]
  },
  {
   "cell_type": "code",
   "execution_count": 4,
   "id": "eed643cf",
   "metadata": {},
   "outputs": [
    {
     "data": {
      "text/html": [
       "<div>\n",
       "<style scoped>\n",
       "    .dataframe tbody tr th:only-of-type {\n",
       "        vertical-align: middle;\n",
       "    }\n",
       "\n",
       "    .dataframe tbody tr th {\n",
       "        vertical-align: top;\n",
       "    }\n",
       "\n",
       "    .dataframe thead th {\n",
       "        text-align: right;\n",
       "    }\n",
       "</style>\n",
       "<table border=\"1\" class=\"dataframe\">\n",
       "  <thead>\n",
       "    <tr style=\"text-align: right;\">\n",
       "      <th></th>\n",
       "      <th>Unnamed: 0</th>\n",
       "      <th>BOROUGH</th>\n",
       "      <th>NEIGHBORHOOD</th>\n",
       "      <th>BUILDING CLASS CATEGORY</th>\n",
       "      <th>TAX CLASS AT PRESENT</th>\n",
       "      <th>BLOCK</th>\n",
       "      <th>LOT</th>\n",
       "      <th>EASE-MENT</th>\n",
       "      <th>BUILDING CLASS AT PRESENT</th>\n",
       "      <th>ADDRESS</th>\n",
       "      <th>...</th>\n",
       "      <th>RESIDENTIAL UNITS</th>\n",
       "      <th>COMMERCIAL UNITS</th>\n",
       "      <th>TOTAL UNITS</th>\n",
       "      <th>LAND SQUARE FEET</th>\n",
       "      <th>GROSS SQUARE FEET</th>\n",
       "      <th>YEAR BUILT</th>\n",
       "      <th>TAX CLASS AT TIME OF SALE</th>\n",
       "      <th>BUILDING CLASS AT TIME OF SALE</th>\n",
       "      <th>SALE PRICE</th>\n",
       "      <th>SALE DATE</th>\n",
       "    </tr>\n",
       "  </thead>\n",
       "  <tbody>\n",
       "    <tr>\n",
       "      <th>0</th>\n",
       "      <td>4</td>\n",
       "      <td>1</td>\n",
       "      <td>ALPHABET CITY</td>\n",
       "      <td>07 RENTALS - WALKUP APARTMENTS</td>\n",
       "      <td>2A</td>\n",
       "      <td>392</td>\n",
       "      <td>6</td>\n",
       "      <td></td>\n",
       "      <td>C2</td>\n",
       "      <td>153 AVENUE B</td>\n",
       "      <td>...</td>\n",
       "      <td>5</td>\n",
       "      <td>0</td>\n",
       "      <td>5</td>\n",
       "      <td>1633</td>\n",
       "      <td>6440</td>\n",
       "      <td>1900</td>\n",
       "      <td>2</td>\n",
       "      <td>C2</td>\n",
       "      <td>6625000</td>\n",
       "      <td>2017-07-19 00:00:00</td>\n",
       "    </tr>\n",
       "    <tr>\n",
       "      <th>1</th>\n",
       "      <td>5</td>\n",
       "      <td>1</td>\n",
       "      <td>ALPHABET CITY</td>\n",
       "      <td>07 RENTALS - WALKUP APARTMENTS</td>\n",
       "      <td>2</td>\n",
       "      <td>399</td>\n",
       "      <td>26</td>\n",
       "      <td></td>\n",
       "      <td>C7</td>\n",
       "      <td>234 EAST 4TH   STREET</td>\n",
       "      <td>...</td>\n",
       "      <td>28</td>\n",
       "      <td>3</td>\n",
       "      <td>31</td>\n",
       "      <td>4616</td>\n",
       "      <td>18690</td>\n",
       "      <td>1900</td>\n",
       "      <td>2</td>\n",
       "      <td>C7</td>\n",
       "      <td>-</td>\n",
       "      <td>2016-12-14 00:00:00</td>\n",
       "    </tr>\n",
       "    <tr>\n",
       "      <th>2</th>\n",
       "      <td>6</td>\n",
       "      <td>1</td>\n",
       "      <td>ALPHABET CITY</td>\n",
       "      <td>07 RENTALS - WALKUP APARTMENTS</td>\n",
       "      <td>2</td>\n",
       "      <td>399</td>\n",
       "      <td>39</td>\n",
       "      <td></td>\n",
       "      <td>C7</td>\n",
       "      <td>197 EAST 3RD   STREET</td>\n",
       "      <td>...</td>\n",
       "      <td>16</td>\n",
       "      <td>1</td>\n",
       "      <td>17</td>\n",
       "      <td>2212</td>\n",
       "      <td>7803</td>\n",
       "      <td>1900</td>\n",
       "      <td>2</td>\n",
       "      <td>C7</td>\n",
       "      <td>-</td>\n",
       "      <td>2016-12-09 00:00:00</td>\n",
       "    </tr>\n",
       "    <tr>\n",
       "      <th>3</th>\n",
       "      <td>7</td>\n",
       "      <td>1</td>\n",
       "      <td>ALPHABET CITY</td>\n",
       "      <td>07 RENTALS - WALKUP APARTMENTS</td>\n",
       "      <td>2B</td>\n",
       "      <td>402</td>\n",
       "      <td>21</td>\n",
       "      <td></td>\n",
       "      <td>C4</td>\n",
       "      <td>154 EAST 7TH STREET</td>\n",
       "      <td>...</td>\n",
       "      <td>10</td>\n",
       "      <td>0</td>\n",
       "      <td>10</td>\n",
       "      <td>2272</td>\n",
       "      <td>6794</td>\n",
       "      <td>1913</td>\n",
       "      <td>2</td>\n",
       "      <td>C4</td>\n",
       "      <td>3936272</td>\n",
       "      <td>2016-09-23 00:00:00</td>\n",
       "    </tr>\n",
       "    <tr>\n",
       "      <th>4</th>\n",
       "      <td>8</td>\n",
       "      <td>1</td>\n",
       "      <td>ALPHABET CITY</td>\n",
       "      <td>07 RENTALS - WALKUP APARTMENTS</td>\n",
       "      <td>2A</td>\n",
       "      <td>404</td>\n",
       "      <td>55</td>\n",
       "      <td></td>\n",
       "      <td>C2</td>\n",
       "      <td>301 EAST 10TH   STREET</td>\n",
       "      <td>...</td>\n",
       "      <td>6</td>\n",
       "      <td>0</td>\n",
       "      <td>6</td>\n",
       "      <td>2369</td>\n",
       "      <td>4615</td>\n",
       "      <td>1900</td>\n",
       "      <td>2</td>\n",
       "      <td>C2</td>\n",
       "      <td>8000000</td>\n",
       "      <td>2016-11-17 00:00:00</td>\n",
       "    </tr>\n",
       "  </tbody>\n",
       "</table>\n",
       "<p>5 rows × 22 columns</p>\n",
       "</div>"
      ],
      "text/plain": [
       "   Unnamed: 0  BOROUGH   NEIGHBORHOOD  \\\n",
       "0           4        1  ALPHABET CITY   \n",
       "1           5        1  ALPHABET CITY   \n",
       "2           6        1  ALPHABET CITY   \n",
       "3           7        1  ALPHABET CITY   \n",
       "4           8        1  ALPHABET CITY   \n",
       "\n",
       "                       BUILDING CLASS CATEGORY TAX CLASS AT PRESENT  BLOCK  \\\n",
       "0  07 RENTALS - WALKUP APARTMENTS                                2A    392   \n",
       "1  07 RENTALS - WALKUP APARTMENTS                                 2    399   \n",
       "2  07 RENTALS - WALKUP APARTMENTS                                 2    399   \n",
       "3  07 RENTALS - WALKUP APARTMENTS                                2B    402   \n",
       "4  07 RENTALS - WALKUP APARTMENTS                                2A    404   \n",
       "\n",
       "   LOT EASE-MENT BUILDING CLASS AT PRESENT                 ADDRESS  ...  \\\n",
       "0    6                                  C2            153 AVENUE B  ...   \n",
       "1   26                                  C7   234 EAST 4TH   STREET  ...   \n",
       "2   39                                  C7   197 EAST 3RD   STREET  ...   \n",
       "3   21                                  C4     154 EAST 7TH STREET  ...   \n",
       "4   55                                  C2  301 EAST 10TH   STREET  ...   \n",
       "\n",
       "  RESIDENTIAL UNITS  COMMERCIAL UNITS  TOTAL UNITS  LAND SQUARE FEET  \\\n",
       "0                 5                 0            5              1633   \n",
       "1                28                 3           31              4616   \n",
       "2                16                 1           17              2212   \n",
       "3                10                 0           10              2272   \n",
       "4                 6                 0            6              2369   \n",
       "\n",
       "   GROSS SQUARE FEET YEAR BUILT TAX CLASS AT TIME OF SALE  \\\n",
       "0               6440       1900                         2   \n",
       "1              18690       1900                         2   \n",
       "2               7803       1900                         2   \n",
       "3               6794       1913                         2   \n",
       "4               4615       1900                         2   \n",
       "\n",
       "   BUILDING CLASS AT TIME OF SALE  SALE PRICE            SALE DATE  \n",
       "0                              C2     6625000  2017-07-19 00:00:00  \n",
       "1                              C7         -    2016-12-14 00:00:00  \n",
       "2                              C7         -    2016-12-09 00:00:00  \n",
       "3                              C4     3936272  2016-09-23 00:00:00  \n",
       "4                              C2     8000000  2016-11-17 00:00:00  \n",
       "\n",
       "[5 rows x 22 columns]"
      ]
     },
     "execution_count": 4,
     "metadata": {},
     "output_type": "execute_result"
    }
   ],
   "source": [
    "df = pd.read_csv('dataset/nyc-rolling-sales.csv')\n",
    "df.head()"
   ]
  },
  {
   "cell_type": "code",
   "execution_count": 5,
   "id": "d1034d0f",
   "metadata": {},
   "outputs": [
    {
     "name": "stdout",
     "output_type": "stream",
     "text": [
      "<class 'pandas.core.frame.DataFrame'>\n",
      "RangeIndex: 84548 entries, 0 to 84547\n",
      "Data columns (total 22 columns):\n",
      " #   Column                          Non-Null Count  Dtype \n",
      "---  ------                          --------------  ----- \n",
      " 0   Unnamed: 0                      84548 non-null  int64 \n",
      " 1   BOROUGH                         84548 non-null  int64 \n",
      " 2   NEIGHBORHOOD                    84548 non-null  object\n",
      " 3   BUILDING CLASS CATEGORY         84548 non-null  object\n",
      " 4   TAX CLASS AT PRESENT            84548 non-null  object\n",
      " 5   BLOCK                           84548 non-null  int64 \n",
      " 6   LOT                             84548 non-null  int64 \n",
      " 7   EASE-MENT                       84548 non-null  object\n",
      " 8   BUILDING CLASS AT PRESENT       84548 non-null  object\n",
      " 9   ADDRESS                         84548 non-null  object\n",
      " 10  APARTMENT NUMBER                84548 non-null  object\n",
      " 11  ZIP CODE                        84548 non-null  int64 \n",
      " 12  RESIDENTIAL UNITS               84548 non-null  int64 \n",
      " 13  COMMERCIAL UNITS                84548 non-null  int64 \n",
      " 14  TOTAL UNITS                     84548 non-null  int64 \n",
      " 15  LAND SQUARE FEET                84548 non-null  object\n",
      " 16  GROSS SQUARE FEET               84548 non-null  object\n",
      " 17  YEAR BUILT                      84548 non-null  int64 \n",
      " 18  TAX CLASS AT TIME OF SALE       84548 non-null  int64 \n",
      " 19  BUILDING CLASS AT TIME OF SALE  84548 non-null  object\n",
      " 20  SALE PRICE                      84548 non-null  object\n",
      " 21  SALE DATE                       84548 non-null  object\n",
      "dtypes: int64(10), object(12)\n",
      "memory usage: 14.2+ MB\n"
     ]
    }
   ],
   "source": [
    "df.info()"
   ]
  },
  {
   "cell_type": "code",
   "execution_count": 10,
   "id": "ef951897",
   "metadata": {},
   "outputs": [],
   "source": [
    "df.drop(columns=['Unnamed: 0', 'EASE-MENT'], inplace = True)"
   ]
  },
  {
   "cell_type": "code",
   "execution_count": 12,
   "id": "5fd2dec0",
   "metadata": {},
   "outputs": [],
   "source": [
    "cols = ['SALE PRICE', 'GROSS SQUARE FEET', 'LAND SQUARE FEET']\n",
    "df[cols] = df[cols].apply(pd.to_numeric, errors='coerce', axis=1)"
   ]
  },
  {
   "cell_type": "code",
   "execution_count": 13,
   "id": "7132c232",
   "metadata": {},
   "outputs": [
    {
     "data": {
      "text/plain": [
       "BOROUGH                               0\n",
       "NEIGHBORHOOD                          0\n",
       "BUILDING CLASS CATEGORY               0\n",
       "TAX CLASS AT PRESENT                  0\n",
       "BLOCK                                 0\n",
       "LOT                                   0\n",
       "BUILDING CLASS AT PRESENT             0\n",
       "ADDRESS                               0\n",
       "APARTMENT NUMBER                      0\n",
       "ZIP CODE                              0\n",
       "RESIDENTIAL UNITS                     0\n",
       "COMMERCIAL UNITS                      0\n",
       "TOTAL UNITS                           0\n",
       "LAND SQUARE FEET                  26252\n",
       "GROSS SQUARE FEET                 27612\n",
       "YEAR BUILT                            0\n",
       "TAX CLASS AT TIME OF SALE             0\n",
       "BUILDING CLASS AT TIME OF SALE        0\n",
       "SALE PRICE                        14561\n",
       "SALE DATE                             0\n",
       "dtype: int64"
      ]
     },
     "execution_count": 13,
     "metadata": {},
     "output_type": "execute_result"
    }
   ],
   "source": [
    "df.isnull().sum()"
   ]
  },
  {
   "cell_type": "code",
   "execution_count": 15,
   "id": "e50f050d",
   "metadata": {},
   "outputs": [
    {
     "data": {
      "text/plain": [
       "BOROUGH                           0\n",
       "NEIGHBORHOOD                      0\n",
       "BUILDING CLASS CATEGORY           0\n",
       "TAX CLASS AT PRESENT              0\n",
       "BLOCK                             0\n",
       "LOT                               0\n",
       "BUILDING CLASS AT PRESENT         0\n",
       "ADDRESS                           0\n",
       "APARTMENT NUMBER                  0\n",
       "ZIP CODE                          0\n",
       "RESIDENTIAL UNITS                 0\n",
       "COMMERCIAL UNITS                  0\n",
       "TOTAL UNITS                       0\n",
       "LAND SQUARE FEET                  0\n",
       "GROSS SQUARE FEET                 0\n",
       "YEAR BUILT                        0\n",
       "TAX CLASS AT TIME OF SALE         0\n",
       "BUILDING CLASS AT TIME OF SALE    0\n",
       "SALE PRICE                        0\n",
       "SALE DATE                         0\n",
       "dtype: int64"
      ]
     },
     "execution_count": 15,
     "metadata": {},
     "output_type": "execute_result"
    }
   ],
   "source": [
    "df.dropna(inplace=True)\n",
    "df.isnull().sum()"
   ]
  },
  {
   "cell_type": "code",
   "execution_count": 17,
   "id": "3bac418b",
   "metadata": {},
   "outputs": [
    {
     "data": {
      "text/html": [
       "<div>\n",
       "<style scoped>\n",
       "    .dataframe tbody tr th:only-of-type {\n",
       "        vertical-align: middle;\n",
       "    }\n",
       "\n",
       "    .dataframe tbody tr th {\n",
       "        vertical-align: top;\n",
       "    }\n",
       "\n",
       "    .dataframe thead th {\n",
       "        text-align: right;\n",
       "    }\n",
       "</style>\n",
       "<table border=\"1\" class=\"dataframe\">\n",
       "  <thead>\n",
       "    <tr style=\"text-align: right;\">\n",
       "      <th></th>\n",
       "      <th>BOROUGH</th>\n",
       "      <th>BLOCK</th>\n",
       "      <th>LOT</th>\n",
       "      <th>ZIP CODE</th>\n",
       "      <th>RESIDENTIAL UNITS</th>\n",
       "      <th>COMMERCIAL UNITS</th>\n",
       "      <th>TOTAL UNITS</th>\n",
       "      <th>LAND SQUARE FEET</th>\n",
       "      <th>GROSS SQUARE FEET</th>\n",
       "      <th>YEAR BUILT</th>\n",
       "      <th>TAX CLASS AT TIME OF SALE</th>\n",
       "      <th>SALE PRICE</th>\n",
       "    </tr>\n",
       "  </thead>\n",
       "  <tbody>\n",
       "    <tr>\n",
       "      <th>count</th>\n",
       "      <td>48244.000000</td>\n",
       "      <td>48244.000000</td>\n",
       "      <td>48244.000000</td>\n",
       "      <td>48244.000000</td>\n",
       "      <td>48244.000000</td>\n",
       "      <td>48244.000000</td>\n",
       "      <td>48244.000000</td>\n",
       "      <td>4.824400e+04</td>\n",
       "      <td>4.824400e+04</td>\n",
       "      <td>48244.000000</td>\n",
       "      <td>48244.000000</td>\n",
       "      <td>4.824400e+04</td>\n",
       "    </tr>\n",
       "    <tr>\n",
       "      <th>mean</th>\n",
       "      <td>3.251741</td>\n",
       "      <td>4984.532191</td>\n",
       "      <td>234.324662</td>\n",
       "      <td>10939.681328</td>\n",
       "      <td>2.566537</td>\n",
       "      <td>0.249171</td>\n",
       "      <td>2.834632</td>\n",
       "      <td>3.358117e+03</td>\n",
       "      <td>3.669753e+03</td>\n",
       "      <td>1827.765173</td>\n",
       "      <td>1.475769</td>\n",
       "      <td>1.153281e+06</td>\n",
       "    </tr>\n",
       "    <tr>\n",
       "      <th>std</th>\n",
       "      <td>0.903136</td>\n",
       "      <td>3427.418090</td>\n",
       "      <td>496.361521</td>\n",
       "      <td>1072.752086</td>\n",
       "      <td>17.465481</td>\n",
       "      <td>10.988072</td>\n",
       "      <td>20.750418</td>\n",
       "      <td>3.143590e+04</td>\n",
       "      <td>2.947491e+04</td>\n",
       "      <td>464.361153</td>\n",
       "      <td>0.833589</td>\n",
       "      <td>1.340131e+07</td>\n",
       "    </tr>\n",
       "    <tr>\n",
       "      <th>min</th>\n",
       "      <td>1.000000</td>\n",
       "      <td>1.000000</td>\n",
       "      <td>1.000000</td>\n",
       "      <td>0.000000</td>\n",
       "      <td>0.000000</td>\n",
       "      <td>0.000000</td>\n",
       "      <td>0.000000</td>\n",
       "      <td>0.000000e+00</td>\n",
       "      <td>0.000000e+00</td>\n",
       "      <td>0.000000</td>\n",
       "      <td>1.000000</td>\n",
       "      <td>0.000000e+00</td>\n",
       "    </tr>\n",
       "    <tr>\n",
       "      <th>25%</th>\n",
       "      <td>3.000000</td>\n",
       "      <td>2206.750000</td>\n",
       "      <td>21.000000</td>\n",
       "      <td>10469.000000</td>\n",
       "      <td>1.000000</td>\n",
       "      <td>0.000000</td>\n",
       "      <td>1.000000</td>\n",
       "      <td>1.413000e+03</td>\n",
       "      <td>8.280000e+02</td>\n",
       "      <td>1920.000000</td>\n",
       "      <td>1.000000</td>\n",
       "      <td>8.042000e+04</td>\n",
       "    </tr>\n",
       "    <tr>\n",
       "      <th>50%</th>\n",
       "      <td>3.000000</td>\n",
       "      <td>4660.500000</td>\n",
       "      <td>45.000000</td>\n",
       "      <td>11217.000000</td>\n",
       "      <td>1.000000</td>\n",
       "      <td>0.000000</td>\n",
       "      <td>1.000000</td>\n",
       "      <td>2.140000e+03</td>\n",
       "      <td>1.620000e+03</td>\n",
       "      <td>1931.000000</td>\n",
       "      <td>1.000000</td>\n",
       "      <td>4.800000e+05</td>\n",
       "    </tr>\n",
       "    <tr>\n",
       "      <th>75%</th>\n",
       "      <td>4.000000</td>\n",
       "      <td>6996.000000</td>\n",
       "      <td>94.000000</td>\n",
       "      <td>11237.000000</td>\n",
       "      <td>2.000000</td>\n",
       "      <td>0.000000</td>\n",
       "      <td>2.000000</td>\n",
       "      <td>3.071000e+03</td>\n",
       "      <td>2.520000e+03</td>\n",
       "      <td>1961.000000</td>\n",
       "      <td>2.000000</td>\n",
       "      <td>8.300000e+05</td>\n",
       "    </tr>\n",
       "    <tr>\n",
       "      <th>max</th>\n",
       "      <td>5.000000</td>\n",
       "      <td>16319.000000</td>\n",
       "      <td>9009.000000</td>\n",
       "      <td>11694.000000</td>\n",
       "      <td>1844.000000</td>\n",
       "      <td>2261.000000</td>\n",
       "      <td>2261.000000</td>\n",
       "      <td>4.228300e+06</td>\n",
       "      <td>3.750565e+06</td>\n",
       "      <td>2017.000000</td>\n",
       "      <td>4.000000</td>\n",
       "      <td>2.210000e+09</td>\n",
       "    </tr>\n",
       "  </tbody>\n",
       "</table>\n",
       "</div>"
      ],
      "text/plain": [
       "            BOROUGH         BLOCK           LOT      ZIP CODE  \\\n",
       "count  48244.000000  48244.000000  48244.000000  48244.000000   \n",
       "mean       3.251741   4984.532191    234.324662  10939.681328   \n",
       "std        0.903136   3427.418090    496.361521   1072.752086   \n",
       "min        1.000000      1.000000      1.000000      0.000000   \n",
       "25%        3.000000   2206.750000     21.000000  10469.000000   \n",
       "50%        3.000000   4660.500000     45.000000  11217.000000   \n",
       "75%        4.000000   6996.000000     94.000000  11237.000000   \n",
       "max        5.000000  16319.000000   9009.000000  11694.000000   \n",
       "\n",
       "       RESIDENTIAL UNITS  COMMERCIAL UNITS   TOTAL UNITS  LAND SQUARE FEET  \\\n",
       "count       48244.000000      48244.000000  48244.000000      4.824400e+04   \n",
       "mean            2.566537          0.249171      2.834632      3.358117e+03   \n",
       "std            17.465481         10.988072     20.750418      3.143590e+04   \n",
       "min             0.000000          0.000000      0.000000      0.000000e+00   \n",
       "25%             1.000000          0.000000      1.000000      1.413000e+03   \n",
       "50%             1.000000          0.000000      1.000000      2.140000e+03   \n",
       "75%             2.000000          0.000000      2.000000      3.071000e+03   \n",
       "max          1844.000000       2261.000000   2261.000000      4.228300e+06   \n",
       "\n",
       "       GROSS SQUARE FEET    YEAR BUILT  TAX CLASS AT TIME OF SALE  \\\n",
       "count       4.824400e+04  48244.000000               48244.000000   \n",
       "mean        3.669753e+03   1827.765173                   1.475769   \n",
       "std         2.947491e+04    464.361153                   0.833589   \n",
       "min         0.000000e+00      0.000000                   1.000000   \n",
       "25%         8.280000e+02   1920.000000                   1.000000   \n",
       "50%         1.620000e+03   1931.000000                   1.000000   \n",
       "75%         2.520000e+03   1961.000000                   2.000000   \n",
       "max         3.750565e+06   2017.000000                   4.000000   \n",
       "\n",
       "         SALE PRICE  \n",
       "count  4.824400e+04  \n",
       "mean   1.153281e+06  \n",
       "std    1.340131e+07  \n",
       "min    0.000000e+00  \n",
       "25%    8.042000e+04  \n",
       "50%    4.800000e+05  \n",
       "75%    8.300000e+05  \n",
       "max    2.210000e+09  "
      ]
     },
     "execution_count": 17,
     "metadata": {},
     "output_type": "execute_result"
    }
   ],
   "source": [
    "df.describe()"
   ]
  },
  {
   "cell_type": "markdown",
   "id": "7dfd9562",
   "metadata": {
    "id": "7dfd9562"
   },
   "source": [
    "---\n",
    "# A. Measure of Central Tendency : Mean"
   ]
  },
  {
   "cell_type": "markdown",
   "id": "8df186fc",
   "metadata": {
    "id": "8df186fc"
   },
   "source": [
    "**Question**"
   ]
  },
  {
   "cell_type": "markdown",
   "id": "c128d643",
   "metadata": {
    "id": "f9ac7f09"
   },
   "source": [
    "Berapa harga jual rata-rata properti di New York berdasarkan neighborhood?"
   ]
  },
  {
   "cell_type": "markdown",
   "id": "dbc535b3",
   "metadata": {
    "id": "dbc535b3"
   },
   "source": [
    "**Pre-processing if needed**"
   ]
  },
  {
   "cell_type": "code",
   "execution_count": 19,
   "id": "ceb78fdb",
   "metadata": {
    "id": "ceb78fdb"
   },
   "outputs": [
    {
     "data": {
      "text/html": [
       "<div>\n",
       "<style scoped>\n",
       "    .dataframe tbody tr th:only-of-type {\n",
       "        vertical-align: middle;\n",
       "    }\n",
       "\n",
       "    .dataframe tbody tr th {\n",
       "        vertical-align: top;\n",
       "    }\n",
       "\n",
       "    .dataframe thead th {\n",
       "        text-align: right;\n",
       "    }\n",
       "</style>\n",
       "<table border=\"1\" class=\"dataframe\">\n",
       "  <thead>\n",
       "    <tr style=\"text-align: right;\">\n",
       "      <th></th>\n",
       "      <th>BOROUGH</th>\n",
       "      <th>NEIGHBORHOOD</th>\n",
       "      <th>BUILDING CLASS CATEGORY</th>\n",
       "      <th>TAX CLASS AT PRESENT</th>\n",
       "      <th>BLOCK</th>\n",
       "      <th>LOT</th>\n",
       "      <th>BUILDING CLASS AT PRESENT</th>\n",
       "      <th>ADDRESS</th>\n",
       "      <th>APARTMENT NUMBER</th>\n",
       "      <th>ZIP CODE</th>\n",
       "      <th>RESIDENTIAL UNITS</th>\n",
       "      <th>COMMERCIAL UNITS</th>\n",
       "      <th>TOTAL UNITS</th>\n",
       "      <th>LAND SQUARE FEET</th>\n",
       "      <th>GROSS SQUARE FEET</th>\n",
       "      <th>YEAR BUILT</th>\n",
       "      <th>TAX CLASS AT TIME OF SALE</th>\n",
       "      <th>BUILDING CLASS AT TIME OF SALE</th>\n",
       "      <th>SALE PRICE</th>\n",
       "      <th>SALE DATE</th>\n",
       "    </tr>\n",
       "  </thead>\n",
       "  <tbody>\n",
       "    <tr>\n",
       "      <th>0</th>\n",
       "      <td>1</td>\n",
       "      <td>ALPHABET CITY</td>\n",
       "      <td>07 RENTALS - WALKUP APARTMENTS</td>\n",
       "      <td>2A</td>\n",
       "      <td>392</td>\n",
       "      <td>6</td>\n",
       "      <td>C2</td>\n",
       "      <td>153 AVENUE B</td>\n",
       "      <td></td>\n",
       "      <td>10009</td>\n",
       "      <td>5</td>\n",
       "      <td>0</td>\n",
       "      <td>5</td>\n",
       "      <td>1633.0</td>\n",
       "      <td>6440.0</td>\n",
       "      <td>1900</td>\n",
       "      <td>2</td>\n",
       "      <td>C2</td>\n",
       "      <td>6625000.0</td>\n",
       "      <td>2017-07-19 00:00:00</td>\n",
       "    </tr>\n",
       "    <tr>\n",
       "      <th>3</th>\n",
       "      <td>1</td>\n",
       "      <td>ALPHABET CITY</td>\n",
       "      <td>07 RENTALS - WALKUP APARTMENTS</td>\n",
       "      <td>2B</td>\n",
       "      <td>402</td>\n",
       "      <td>21</td>\n",
       "      <td>C4</td>\n",
       "      <td>154 EAST 7TH STREET</td>\n",
       "      <td></td>\n",
       "      <td>10009</td>\n",
       "      <td>10</td>\n",
       "      <td>0</td>\n",
       "      <td>10</td>\n",
       "      <td>2272.0</td>\n",
       "      <td>6794.0</td>\n",
       "      <td>1913</td>\n",
       "      <td>2</td>\n",
       "      <td>C4</td>\n",
       "      <td>3936272.0</td>\n",
       "      <td>2016-09-23 00:00:00</td>\n",
       "    </tr>\n",
       "    <tr>\n",
       "      <th>4</th>\n",
       "      <td>1</td>\n",
       "      <td>ALPHABET CITY</td>\n",
       "      <td>07 RENTALS - WALKUP APARTMENTS</td>\n",
       "      <td>2A</td>\n",
       "      <td>404</td>\n",
       "      <td>55</td>\n",
       "      <td>C2</td>\n",
       "      <td>301 EAST 10TH   STREET</td>\n",
       "      <td></td>\n",
       "      <td>10009</td>\n",
       "      <td>6</td>\n",
       "      <td>0</td>\n",
       "      <td>6</td>\n",
       "      <td>2369.0</td>\n",
       "      <td>4615.0</td>\n",
       "      <td>1900</td>\n",
       "      <td>2</td>\n",
       "      <td>C2</td>\n",
       "      <td>8000000.0</td>\n",
       "      <td>2016-11-17 00:00:00</td>\n",
       "    </tr>\n",
       "    <tr>\n",
       "      <th>6</th>\n",
       "      <td>1</td>\n",
       "      <td>ALPHABET CITY</td>\n",
       "      <td>07 RENTALS - WALKUP APARTMENTS</td>\n",
       "      <td>2B</td>\n",
       "      <td>406</td>\n",
       "      <td>32</td>\n",
       "      <td>C4</td>\n",
       "      <td>210 AVENUE B</td>\n",
       "      <td></td>\n",
       "      <td>10009</td>\n",
       "      <td>8</td>\n",
       "      <td>0</td>\n",
       "      <td>8</td>\n",
       "      <td>1750.0</td>\n",
       "      <td>4226.0</td>\n",
       "      <td>1920</td>\n",
       "      <td>2</td>\n",
       "      <td>C4</td>\n",
       "      <td>3192840.0</td>\n",
       "      <td>2016-09-23 00:00:00</td>\n",
       "    </tr>\n",
       "    <tr>\n",
       "      <th>9</th>\n",
       "      <td>1</td>\n",
       "      <td>ALPHABET CITY</td>\n",
       "      <td>08 RENTALS - ELEVATOR APARTMENTS</td>\n",
       "      <td>2</td>\n",
       "      <td>387</td>\n",
       "      <td>153</td>\n",
       "      <td>D9</td>\n",
       "      <td>629 EAST 5TH STREET</td>\n",
       "      <td></td>\n",
       "      <td>10009</td>\n",
       "      <td>24</td>\n",
       "      <td>0</td>\n",
       "      <td>24</td>\n",
       "      <td>4489.0</td>\n",
       "      <td>18523.0</td>\n",
       "      <td>1920</td>\n",
       "      <td>2</td>\n",
       "      <td>D9</td>\n",
       "      <td>16232000.0</td>\n",
       "      <td>2016-11-07 00:00:00</td>\n",
       "    </tr>\n",
       "    <tr>\n",
       "      <th>...</th>\n",
       "      <td>...</td>\n",
       "      <td>...</td>\n",
       "      <td>...</td>\n",
       "      <td>...</td>\n",
       "      <td>...</td>\n",
       "      <td>...</td>\n",
       "      <td>...</td>\n",
       "      <td>...</td>\n",
       "      <td>...</td>\n",
       "      <td>...</td>\n",
       "      <td>...</td>\n",
       "      <td>...</td>\n",
       "      <td>...</td>\n",
       "      <td>...</td>\n",
       "      <td>...</td>\n",
       "      <td>...</td>\n",
       "      <td>...</td>\n",
       "      <td>...</td>\n",
       "      <td>...</td>\n",
       "      <td>...</td>\n",
       "    </tr>\n",
       "    <tr>\n",
       "      <th>84543</th>\n",
       "      <td>5</td>\n",
       "      <td>WOODROW</td>\n",
       "      <td>02 TWO FAMILY DWELLINGS</td>\n",
       "      <td>1</td>\n",
       "      <td>7349</td>\n",
       "      <td>34</td>\n",
       "      <td>B9</td>\n",
       "      <td>37 QUAIL LANE</td>\n",
       "      <td></td>\n",
       "      <td>10309</td>\n",
       "      <td>2</td>\n",
       "      <td>0</td>\n",
       "      <td>2</td>\n",
       "      <td>2400.0</td>\n",
       "      <td>2575.0</td>\n",
       "      <td>1998</td>\n",
       "      <td>1</td>\n",
       "      <td>B9</td>\n",
       "      <td>450000.0</td>\n",
       "      <td>2016-11-28 00:00:00</td>\n",
       "    </tr>\n",
       "    <tr>\n",
       "      <th>84544</th>\n",
       "      <td>5</td>\n",
       "      <td>WOODROW</td>\n",
       "      <td>02 TWO FAMILY DWELLINGS</td>\n",
       "      <td>1</td>\n",
       "      <td>7349</td>\n",
       "      <td>78</td>\n",
       "      <td>B9</td>\n",
       "      <td>32 PHEASANT LANE</td>\n",
       "      <td></td>\n",
       "      <td>10309</td>\n",
       "      <td>2</td>\n",
       "      <td>0</td>\n",
       "      <td>2</td>\n",
       "      <td>2498.0</td>\n",
       "      <td>2377.0</td>\n",
       "      <td>1998</td>\n",
       "      <td>1</td>\n",
       "      <td>B9</td>\n",
       "      <td>550000.0</td>\n",
       "      <td>2017-04-21 00:00:00</td>\n",
       "    </tr>\n",
       "    <tr>\n",
       "      <th>84545</th>\n",
       "      <td>5</td>\n",
       "      <td>WOODROW</td>\n",
       "      <td>02 TWO FAMILY DWELLINGS</td>\n",
       "      <td>1</td>\n",
       "      <td>7351</td>\n",
       "      <td>60</td>\n",
       "      <td>B2</td>\n",
       "      <td>49 PITNEY AVENUE</td>\n",
       "      <td></td>\n",
       "      <td>10309</td>\n",
       "      <td>2</td>\n",
       "      <td>0</td>\n",
       "      <td>2</td>\n",
       "      <td>4000.0</td>\n",
       "      <td>1496.0</td>\n",
       "      <td>1925</td>\n",
       "      <td>1</td>\n",
       "      <td>B2</td>\n",
       "      <td>460000.0</td>\n",
       "      <td>2017-07-05 00:00:00</td>\n",
       "    </tr>\n",
       "    <tr>\n",
       "      <th>84546</th>\n",
       "      <td>5</td>\n",
       "      <td>WOODROW</td>\n",
       "      <td>22 STORE BUILDINGS</td>\n",
       "      <td>4</td>\n",
       "      <td>7100</td>\n",
       "      <td>28</td>\n",
       "      <td>K6</td>\n",
       "      <td>2730 ARTHUR KILL ROAD</td>\n",
       "      <td></td>\n",
       "      <td>10309</td>\n",
       "      <td>0</td>\n",
       "      <td>7</td>\n",
       "      <td>7</td>\n",
       "      <td>208033.0</td>\n",
       "      <td>64117.0</td>\n",
       "      <td>2001</td>\n",
       "      <td>4</td>\n",
       "      <td>K6</td>\n",
       "      <td>11693337.0</td>\n",
       "      <td>2016-12-21 00:00:00</td>\n",
       "    </tr>\n",
       "    <tr>\n",
       "      <th>84547</th>\n",
       "      <td>5</td>\n",
       "      <td>WOODROW</td>\n",
       "      <td>35 INDOOR PUBLIC AND CULTURAL FACILITIES</td>\n",
       "      <td>4</td>\n",
       "      <td>7105</td>\n",
       "      <td>679</td>\n",
       "      <td>P9</td>\n",
       "      <td>155 CLAY PIT ROAD</td>\n",
       "      <td></td>\n",
       "      <td>10309</td>\n",
       "      <td>0</td>\n",
       "      <td>1</td>\n",
       "      <td>1</td>\n",
       "      <td>10796.0</td>\n",
       "      <td>2400.0</td>\n",
       "      <td>2006</td>\n",
       "      <td>4</td>\n",
       "      <td>P9</td>\n",
       "      <td>69300.0</td>\n",
       "      <td>2016-10-27 00:00:00</td>\n",
       "    </tr>\n",
       "  </tbody>\n",
       "</table>\n",
       "<p>38016 rows × 20 columns</p>\n",
       "</div>"
      ],
      "text/plain": [
       "       BOROUGH   NEIGHBORHOOD                      BUILDING CLASS CATEGORY  \\\n",
       "0            1  ALPHABET CITY  07 RENTALS - WALKUP APARTMENTS                \n",
       "3            1  ALPHABET CITY  07 RENTALS - WALKUP APARTMENTS                \n",
       "4            1  ALPHABET CITY  07 RENTALS - WALKUP APARTMENTS                \n",
       "6            1  ALPHABET CITY  07 RENTALS - WALKUP APARTMENTS                \n",
       "9            1  ALPHABET CITY  08 RENTALS - ELEVATOR APARTMENTS              \n",
       "...        ...            ...                                          ...   \n",
       "84543        5        WOODROW  02 TWO FAMILY DWELLINGS                       \n",
       "84544        5        WOODROW  02 TWO FAMILY DWELLINGS                       \n",
       "84545        5        WOODROW  02 TWO FAMILY DWELLINGS                       \n",
       "84546        5        WOODROW  22 STORE BUILDINGS                            \n",
       "84547        5        WOODROW  35 INDOOR PUBLIC AND CULTURAL FACILITIES      \n",
       "\n",
       "      TAX CLASS AT PRESENT  BLOCK  LOT BUILDING CLASS AT PRESENT  \\\n",
       "0                       2A    392    6                        C2   \n",
       "3                       2B    402   21                        C4   \n",
       "4                       2A    404   55                        C2   \n",
       "6                       2B    406   32                        C4   \n",
       "9                        2    387  153                        D9   \n",
       "...                    ...    ...  ...                       ...   \n",
       "84543                    1   7349   34                        B9   \n",
       "84544                    1   7349   78                        B9   \n",
       "84545                    1   7351   60                        B2   \n",
       "84546                    4   7100   28                        K6   \n",
       "84547                    4   7105  679                        P9   \n",
       "\n",
       "                      ADDRESS APARTMENT NUMBER  ZIP CODE  RESIDENTIAL UNITS  \\\n",
       "0                153 AVENUE B                      10009                  5   \n",
       "3         154 EAST 7TH STREET                      10009                 10   \n",
       "4      301 EAST 10TH   STREET                      10009                  6   \n",
       "6                210 AVENUE B                      10009                  8   \n",
       "9         629 EAST 5TH STREET                      10009                 24   \n",
       "...                       ...              ...       ...                ...   \n",
       "84543           37 QUAIL LANE                      10309                  2   \n",
       "84544        32 PHEASANT LANE                      10309                  2   \n",
       "84545        49 PITNEY AVENUE                      10309                  2   \n",
       "84546   2730 ARTHUR KILL ROAD                      10309                  0   \n",
       "84547       155 CLAY PIT ROAD                      10309                  0   \n",
       "\n",
       "       COMMERCIAL UNITS  TOTAL UNITS  LAND SQUARE FEET  GROSS SQUARE FEET  \\\n",
       "0                     0            5            1633.0             6440.0   \n",
       "3                     0           10            2272.0             6794.0   \n",
       "4                     0            6            2369.0             4615.0   \n",
       "6                     0            8            1750.0             4226.0   \n",
       "9                     0           24            4489.0            18523.0   \n",
       "...                 ...          ...               ...                ...   \n",
       "84543                 0            2            2400.0             2575.0   \n",
       "84544                 0            2            2498.0             2377.0   \n",
       "84545                 0            2            4000.0             1496.0   \n",
       "84546                 7            7          208033.0            64117.0   \n",
       "84547                 1            1           10796.0             2400.0   \n",
       "\n",
       "       YEAR BUILT  TAX CLASS AT TIME OF SALE BUILDING CLASS AT TIME OF SALE  \\\n",
       "0            1900                          2                             C2   \n",
       "3            1913                          2                             C4   \n",
       "4            1900                          2                             C2   \n",
       "6            1920                          2                             C4   \n",
       "9            1920                          2                             D9   \n",
       "...           ...                        ...                            ...   \n",
       "84543        1998                          1                             B9   \n",
       "84544        1998                          1                             B9   \n",
       "84545        1925                          1                             B2   \n",
       "84546        2001                          4                             K6   \n",
       "84547        2006                          4                             P9   \n",
       "\n",
       "       SALE PRICE            SALE DATE  \n",
       "0       6625000.0  2017-07-19 00:00:00  \n",
       "3       3936272.0  2016-09-23 00:00:00  \n",
       "4       8000000.0  2016-11-17 00:00:00  \n",
       "6       3192840.0  2016-09-23 00:00:00  \n",
       "9      16232000.0  2016-11-07 00:00:00  \n",
       "...           ...                  ...  \n",
       "84543    450000.0  2016-11-28 00:00:00  \n",
       "84544    550000.0  2017-04-21 00:00:00  \n",
       "84545    460000.0  2017-07-05 00:00:00  \n",
       "84546  11693337.0  2016-12-21 00:00:00  \n",
       "84547     69300.0  2016-10-27 00:00:00  \n",
       "\n",
       "[38016 rows x 20 columns]"
      ]
     },
     "execution_count": 19,
     "metadata": {},
     "output_type": "execute_result"
    }
   ],
   "source": [
    "df_use = df[df['SALE PRICE'] > 0]\n",
    "df_use"
   ]
  },
  {
   "cell_type": "markdown",
   "id": "7f60908c",
   "metadata": {
    "id": "7f60908c"
   },
   "source": [
    "**Implement statistical method**"
   ]
  },
  {
   "cell_type": "code",
   "execution_count": 24,
   "id": "9d09cb07",
   "metadata": {
    "id": "9d09cb07"
   },
   "outputs": [
    {
     "data": {
      "text/html": [
       "<div>\n",
       "<style scoped>\n",
       "    .dataframe tbody tr th:only-of-type {\n",
       "        vertical-align: middle;\n",
       "    }\n",
       "\n",
       "    .dataframe tbody tr th {\n",
       "        vertical-align: top;\n",
       "    }\n",
       "\n",
       "    .dataframe thead th {\n",
       "        text-align: right;\n",
       "    }\n",
       "</style>\n",
       "<table border=\"1\" class=\"dataframe\">\n",
       "  <thead>\n",
       "    <tr style=\"text-align: right;\">\n",
       "      <th></th>\n",
       "      <th>NEIGHBORHOOD</th>\n",
       "      <th>SALE PRICE</th>\n",
       "    </tr>\n",
       "  </thead>\n",
       "  <tbody>\n",
       "    <tr>\n",
       "      <th>0</th>\n",
       "      <td>AIRPORT LA GUARDIA</td>\n",
       "      <td>6.875020e+05</td>\n",
       "    </tr>\n",
       "    <tr>\n",
       "      <th>1</th>\n",
       "      <td>ALPHABET CITY</td>\n",
       "      <td>7.200101e+06</td>\n",
       "    </tr>\n",
       "    <tr>\n",
       "      <th>2</th>\n",
       "      <td>ANNADALE</td>\n",
       "      <td>6.141680e+05</td>\n",
       "    </tr>\n",
       "    <tr>\n",
       "      <th>3</th>\n",
       "      <td>ARDEN HEIGHTS</td>\n",
       "      <td>3.974149e+05</td>\n",
       "    </tr>\n",
       "    <tr>\n",
       "      <th>4</th>\n",
       "      <td>ARROCHAR</td>\n",
       "      <td>5.675062e+05</td>\n",
       "    </tr>\n",
       "    <tr>\n",
       "      <th>...</th>\n",
       "      <td>...</td>\n",
       "      <td>...</td>\n",
       "    </tr>\n",
       "    <tr>\n",
       "      <th>246</th>\n",
       "      <td>WOODHAVEN</td>\n",
       "      <td>5.923966e+05</td>\n",
       "    </tr>\n",
       "    <tr>\n",
       "      <th>247</th>\n",
       "      <td>WOODLAWN</td>\n",
       "      <td>6.495611e+05</td>\n",
       "    </tr>\n",
       "    <tr>\n",
       "      <th>248</th>\n",
       "      <td>WOODROW</td>\n",
       "      <td>6.673779e+05</td>\n",
       "    </tr>\n",
       "    <tr>\n",
       "      <th>249</th>\n",
       "      <td>WOODSIDE</td>\n",
       "      <td>1.566901e+06</td>\n",
       "    </tr>\n",
       "    <tr>\n",
       "      <th>250</th>\n",
       "      <td>WYCKOFF HEIGHTS</td>\n",
       "      <td>1.363965e+06</td>\n",
       "    </tr>\n",
       "  </tbody>\n",
       "</table>\n",
       "<p>251 rows × 2 columns</p>\n",
       "</div>"
      ],
      "text/plain": [
       "           NEIGHBORHOOD    SALE PRICE\n",
       "0    AIRPORT LA GUARDIA  6.875020e+05\n",
       "1         ALPHABET CITY  7.200101e+06\n",
       "2              ANNADALE  6.141680e+05\n",
       "3         ARDEN HEIGHTS  3.974149e+05\n",
       "4              ARROCHAR  5.675062e+05\n",
       "..                  ...           ...\n",
       "246           WOODHAVEN  5.923966e+05\n",
       "247            WOODLAWN  6.495611e+05\n",
       "248             WOODROW  6.673779e+05\n",
       "249            WOODSIDE  1.566901e+06\n",
       "250     WYCKOFF HEIGHTS  1.363965e+06\n",
       "\n",
       "[251 rows x 2 columns]"
      ]
     },
     "execution_count": 24,
     "metadata": {},
     "output_type": "execute_result"
    }
   ],
   "source": [
    "mean_df = df_use.groupby(['NEIGHBORHOOD'])['SALE PRICE'].mean().reset_index()\n",
    "mean_df"
   ]
  },
  {
   "cell_type": "markdown",
   "id": "4a193849",
   "metadata": {
    "id": "4a193849"
   },
   "source": [
    "---\n",
    "# B. Measure of Central Tendency : Median"
   ]
  },
  {
   "cell_type": "markdown",
   "id": "5c63c3d7",
   "metadata": {
    "id": "4d31ef2a"
   },
   "source": [
    "**Question**\n",
    "\n",
    "Berapa nilai tengah harga jual properti di New York berdasarkan neighborhood?"
   ]
  },
  {
   "cell_type": "code",
   "execution_count": 26,
   "id": "ade0039d",
   "metadata": {
    "id": "ade0039d"
   },
   "outputs": [],
   "source": [
    "df_use2 = df_use.copy()"
   ]
  },
  {
   "cell_type": "code",
   "execution_count": 27,
   "id": "54184f49",
   "metadata": {
    "id": "54184f49"
   },
   "outputs": [
    {
     "data": {
      "text/html": [
       "<div>\n",
       "<style scoped>\n",
       "    .dataframe tbody tr th:only-of-type {\n",
       "        vertical-align: middle;\n",
       "    }\n",
       "\n",
       "    .dataframe tbody tr th {\n",
       "        vertical-align: top;\n",
       "    }\n",
       "\n",
       "    .dataframe thead th {\n",
       "        text-align: right;\n",
       "    }\n",
       "</style>\n",
       "<table border=\"1\" class=\"dataframe\">\n",
       "  <thead>\n",
       "    <tr style=\"text-align: right;\">\n",
       "      <th></th>\n",
       "      <th>NEIGHBORHOOD</th>\n",
       "      <th>SALE PRICE</th>\n",
       "    </tr>\n",
       "  </thead>\n",
       "  <tbody>\n",
       "    <tr>\n",
       "      <th>0</th>\n",
       "      <td>AIRPORT LA GUARDIA</td>\n",
       "      <td>792000.0</td>\n",
       "    </tr>\n",
       "    <tr>\n",
       "      <th>1</th>\n",
       "      <td>ALPHABET CITY</td>\n",
       "      <td>6625000.0</td>\n",
       "    </tr>\n",
       "    <tr>\n",
       "      <th>2</th>\n",
       "      <td>ANNADALE</td>\n",
       "      <td>584500.0</td>\n",
       "    </tr>\n",
       "    <tr>\n",
       "      <th>3</th>\n",
       "      <td>ARDEN HEIGHTS</td>\n",
       "      <td>380000.0</td>\n",
       "    </tr>\n",
       "    <tr>\n",
       "      <th>4</th>\n",
       "      <td>ARROCHAR</td>\n",
       "      <td>512250.0</td>\n",
       "    </tr>\n",
       "    <tr>\n",
       "      <th>...</th>\n",
       "      <td>...</td>\n",
       "      <td>...</td>\n",
       "    </tr>\n",
       "    <tr>\n",
       "      <th>246</th>\n",
       "      <td>WOODHAVEN</td>\n",
       "      <td>559000.0</td>\n",
       "    </tr>\n",
       "    <tr>\n",
       "      <th>247</th>\n",
       "      <td>WOODLAWN</td>\n",
       "      <td>430000.0</td>\n",
       "    </tr>\n",
       "    <tr>\n",
       "      <th>248</th>\n",
       "      <td>WOODROW</td>\n",
       "      <td>549000.0</td>\n",
       "    </tr>\n",
       "    <tr>\n",
       "      <th>249</th>\n",
       "      <td>WOODSIDE</td>\n",
       "      <td>950000.0</td>\n",
       "    </tr>\n",
       "    <tr>\n",
       "      <th>250</th>\n",
       "      <td>WYCKOFF HEIGHTS</td>\n",
       "      <td>1125000.0</td>\n",
       "    </tr>\n",
       "  </tbody>\n",
       "</table>\n",
       "<p>251 rows × 2 columns</p>\n",
       "</div>"
      ],
      "text/plain": [
       "           NEIGHBORHOOD  SALE PRICE\n",
       "0    AIRPORT LA GUARDIA    792000.0\n",
       "1         ALPHABET CITY   6625000.0\n",
       "2              ANNADALE    584500.0\n",
       "3         ARDEN HEIGHTS    380000.0\n",
       "4              ARROCHAR    512250.0\n",
       "..                  ...         ...\n",
       "246           WOODHAVEN    559000.0\n",
       "247            WOODLAWN    430000.0\n",
       "248             WOODROW    549000.0\n",
       "249            WOODSIDE    950000.0\n",
       "250     WYCKOFF HEIGHTS   1125000.0\n",
       "\n",
       "[251 rows x 2 columns]"
      ]
     },
     "execution_count": 27,
     "metadata": {},
     "output_type": "execute_result"
    }
   ],
   "source": [
    "median_df = df_use2.groupby(['NEIGHBORHOOD'])['SALE PRICE'].median().reset_index()\n",
    "median_df"
   ]
  },
  {
   "cell_type": "markdown",
   "id": "38f3aa2b",
   "metadata": {
    "id": "38f3aa2b"
   },
   "source": [
    "---\n",
    "# C. Measure of Central Tendency : Modus"
   ]
  },
  {
   "cell_type": "markdown",
   "id": "c7732ca5",
   "metadata": {},
   "source": [
    "**Question**\n",
    "\n",
    "Berapa modus harga jual properti di New York berdasarkan neighborhood?"
   ]
  },
  {
   "cell_type": "code",
   "execution_count": 28,
   "id": "ac714fec",
   "metadata": {},
   "outputs": [],
   "source": [
    "df_use3 = df_use.copy()"
   ]
  },
  {
   "cell_type": "code",
   "execution_count": 43,
   "id": "77201145",
   "metadata": {},
   "outputs": [
    {
     "data": {
      "text/html": [
       "<div>\n",
       "<style scoped>\n",
       "    .dataframe tbody tr th:only-of-type {\n",
       "        vertical-align: middle;\n",
       "    }\n",
       "\n",
       "    .dataframe tbody tr th {\n",
       "        vertical-align: top;\n",
       "    }\n",
       "\n",
       "    .dataframe thead th {\n",
       "        text-align: right;\n",
       "    }\n",
       "</style>\n",
       "<table border=\"1\" class=\"dataframe\">\n",
       "  <thead>\n",
       "    <tr style=\"text-align: right;\">\n",
       "      <th></th>\n",
       "      <th>SALE PRICE</th>\n",
       "    </tr>\n",
       "    <tr>\n",
       "      <th>NEIGHBORHOOD</th>\n",
       "      <th></th>\n",
       "    </tr>\n",
       "  </thead>\n",
       "  <tbody>\n",
       "    <tr>\n",
       "      <th>AIRPORT LA GUARDIA</th>\n",
       "      <td>792000.0</td>\n",
       "    </tr>\n",
       "    <tr>\n",
       "      <th>ALPHABET CITY</th>\n",
       "      <td>6625000.0</td>\n",
       "    </tr>\n",
       "    <tr>\n",
       "      <th>ANNADALE</th>\n",
       "      <td>10.0</td>\n",
       "    </tr>\n",
       "    <tr>\n",
       "      <th>ARDEN HEIGHTS</th>\n",
       "      <td>380000.0</td>\n",
       "    </tr>\n",
       "    <tr>\n",
       "      <th>ARROCHAR</th>\n",
       "      <td>370500.0</td>\n",
       "    </tr>\n",
       "    <tr>\n",
       "      <th>...</th>\n",
       "      <td>...</td>\n",
       "    </tr>\n",
       "    <tr>\n",
       "      <th>WOODHAVEN</th>\n",
       "      <td>650000.0</td>\n",
       "    </tr>\n",
       "    <tr>\n",
       "      <th>WOODLAWN</th>\n",
       "      <td>525000.0</td>\n",
       "    </tr>\n",
       "    <tr>\n",
       "      <th>WOODROW</th>\n",
       "      <td>470000.0</td>\n",
       "    </tr>\n",
       "    <tr>\n",
       "      <th>WOODSIDE</th>\n",
       "      <td>995000.0</td>\n",
       "    </tr>\n",
       "    <tr>\n",
       "      <th>WYCKOFF HEIGHTS</th>\n",
       "      <td>10.0</td>\n",
       "    </tr>\n",
       "  </tbody>\n",
       "</table>\n",
       "<p>251 rows × 1 columns</p>\n",
       "</div>"
      ],
      "text/plain": [
       "                    SALE PRICE\n",
       "NEIGHBORHOOD                  \n",
       "AIRPORT LA GUARDIA    792000.0\n",
       "ALPHABET CITY        6625000.0\n",
       "ANNADALE                  10.0\n",
       "ARDEN HEIGHTS         380000.0\n",
       "ARROCHAR              370500.0\n",
       "...                        ...\n",
       "WOODHAVEN             650000.0\n",
       "WOODLAWN              525000.0\n",
       "WOODROW               470000.0\n",
       "WOODSIDE              995000.0\n",
       "WYCKOFF HEIGHTS           10.0\n",
       "\n",
       "[251 rows x 1 columns]"
      ]
     },
     "execution_count": 43,
     "metadata": {},
     "output_type": "execute_result"
    }
   ],
   "source": [
    "modus_df = df_use3.pivot_table(index = 'NEIGHBORHOOD', values = 'SALE PRICE', aggfunc = statistics.mode)\n",
    "modus_df"
   ]
  },
  {
   "cell_type": "markdown",
   "id": "4791ec3b",
   "metadata": {},
   "source": [
    "---\n",
    "# D. Measure of Spread: Range"
   ]
  },
  {
   "cell_type": "markdown",
   "id": "eadb67cc",
   "metadata": {},
   "source": [
    "**Question**\n",
    "\n",
    "Berapa range harga jual tertinggi dengan terendah properti di New York berdasarkan neighborhood?"
   ]
  },
  {
   "cell_type": "code",
   "execution_count": 45,
   "id": "41f62aae",
   "metadata": {},
   "outputs": [],
   "source": [
    "df_use4 = df_use.copy()"
   ]
  },
  {
   "cell_type": "code",
   "execution_count": 46,
   "id": "1587a17c",
   "metadata": {},
   "outputs": [
    {
     "data": {
      "text/html": [
       "<div>\n",
       "<style scoped>\n",
       "    .dataframe tbody tr th:only-of-type {\n",
       "        vertical-align: middle;\n",
       "    }\n",
       "\n",
       "    .dataframe tbody tr th {\n",
       "        vertical-align: top;\n",
       "    }\n",
       "\n",
       "    .dataframe thead th {\n",
       "        text-align: right;\n",
       "    }\n",
       "</style>\n",
       "<table border=\"1\" class=\"dataframe\">\n",
       "  <thead>\n",
       "    <tr style=\"text-align: right;\">\n",
       "      <th></th>\n",
       "      <th>SALE PRICE</th>\n",
       "    </tr>\n",
       "    <tr>\n",
       "      <th>NEIGHBORHOOD</th>\n",
       "      <th></th>\n",
       "    </tr>\n",
       "  </thead>\n",
       "  <tbody>\n",
       "    <tr>\n",
       "      <th>AIRPORT LA GUARDIA</th>\n",
       "      <td>1399990.0</td>\n",
       "    </tr>\n",
       "    <tr>\n",
       "      <th>ALPHABET CITY</th>\n",
       "      <td>13039160.0</td>\n",
       "    </tr>\n",
       "    <tr>\n",
       "      <th>ANNADALE</th>\n",
       "      <td>1289990.0</td>\n",
       "    </tr>\n",
       "    <tr>\n",
       "      <th>ARDEN HEIGHTS</th>\n",
       "      <td>851900.0</td>\n",
       "    </tr>\n",
       "    <tr>\n",
       "      <th>ARROCHAR</th>\n",
       "      <td>1600000.0</td>\n",
       "    </tr>\n",
       "    <tr>\n",
       "      <th>...</th>\n",
       "      <td>...</td>\n",
       "    </tr>\n",
       "    <tr>\n",
       "      <th>WOODHAVEN</th>\n",
       "      <td>5199990.0</td>\n",
       "    </tr>\n",
       "    <tr>\n",
       "      <th>WOODLAWN</th>\n",
       "      <td>14499990.0</td>\n",
       "    </tr>\n",
       "    <tr>\n",
       "      <th>WOODROW</th>\n",
       "      <td>11693327.0</td>\n",
       "    </tr>\n",
       "    <tr>\n",
       "      <th>WOODSIDE</th>\n",
       "      <td>14499999.0</td>\n",
       "    </tr>\n",
       "    <tr>\n",
       "      <th>WYCKOFF HEIGHTS</th>\n",
       "      <td>5999990.0</td>\n",
       "    </tr>\n",
       "  </tbody>\n",
       "</table>\n",
       "<p>251 rows × 1 columns</p>\n",
       "</div>"
      ],
      "text/plain": [
       "                    SALE PRICE\n",
       "NEIGHBORHOOD                  \n",
       "AIRPORT LA GUARDIA   1399990.0\n",
       "ALPHABET CITY       13039160.0\n",
       "ANNADALE             1289990.0\n",
       "ARDEN HEIGHTS         851900.0\n",
       "ARROCHAR             1600000.0\n",
       "...                        ...\n",
       "WOODHAVEN            5199990.0\n",
       "WOODLAWN            14499990.0\n",
       "WOODROW             11693327.0\n",
       "WOODSIDE            14499999.0\n",
       "WYCKOFF HEIGHTS      5999990.0\n",
       "\n",
       "[251 rows x 1 columns]"
      ]
     },
     "execution_count": 46,
     "metadata": {},
     "output_type": "execute_result"
    }
   ],
   "source": [
    "range_df = df_use4.pivot_table(index = 'NEIGHBORHOOD', values = 'SALE PRICE', aggfunc = np.ptp)\n",
    "range_df"
   ]
  },
  {
   "cell_type": "markdown",
   "id": "7fd301d1",
   "metadata": {},
   "source": [
    "---\n",
    "# E. Measure of Spread: Variance"
   ]
  },
  {
   "cell_type": "markdown",
   "id": "ccb7e290",
   "metadata": {},
   "source": [
    "**Question**\n",
    "\n",
    "Berapa variance harga jual tertinggi dengan terendah properti di New York berdasarkan neighborhood?"
   ]
  },
  {
   "cell_type": "code",
   "execution_count": 47,
   "id": "208f3344",
   "metadata": {},
   "outputs": [],
   "source": [
    "df_use5 = df_use.copy()"
   ]
  },
  {
   "cell_type": "code",
   "execution_count": 48,
   "id": "b93a052d",
   "metadata": {},
   "outputs": [
    {
     "data": {
      "text/html": [
       "<div>\n",
       "<style scoped>\n",
       "    .dataframe tbody tr th:only-of-type {\n",
       "        vertical-align: middle;\n",
       "    }\n",
       "\n",
       "    .dataframe tbody tr th {\n",
       "        vertical-align: top;\n",
       "    }\n",
       "\n",
       "    .dataframe thead th {\n",
       "        text-align: right;\n",
       "    }\n",
       "</style>\n",
       "<table border=\"1\" class=\"dataframe\">\n",
       "  <thead>\n",
       "    <tr style=\"text-align: right;\">\n",
       "      <th></th>\n",
       "      <th>NEIGHBORHOOD</th>\n",
       "      <th>SALE PRICE</th>\n",
       "    </tr>\n",
       "  </thead>\n",
       "  <tbody>\n",
       "    <tr>\n",
       "      <th>0</th>\n",
       "      <td>AIRPORT LA GUARDIA</td>\n",
       "      <td>3.101923e+11</td>\n",
       "    </tr>\n",
       "    <tr>\n",
       "      <th>1</th>\n",
       "      <td>ALPHABET CITY</td>\n",
       "      <td>1.747321e+13</td>\n",
       "    </tr>\n",
       "    <tr>\n",
       "      <th>2</th>\n",
       "      <td>ANNADALE</td>\n",
       "      <td>7.012766e+10</td>\n",
       "    </tr>\n",
       "    <tr>\n",
       "      <th>3</th>\n",
       "      <td>ARDEN HEIGHTS</td>\n",
       "      <td>1.464635e+10</td>\n",
       "    </tr>\n",
       "    <tr>\n",
       "      <th>4</th>\n",
       "      <td>ARROCHAR</td>\n",
       "      <td>8.959645e+10</td>\n",
       "    </tr>\n",
       "    <tr>\n",
       "      <th>...</th>\n",
       "      <td>...</td>\n",
       "      <td>...</td>\n",
       "    </tr>\n",
       "    <tr>\n",
       "      <th>246</th>\n",
       "      <td>WOODHAVEN</td>\n",
       "      <td>1.199117e+11</td>\n",
       "    </tr>\n",
       "    <tr>\n",
       "      <th>247</th>\n",
       "      <td>WOODLAWN</td>\n",
       "      <td>3.340218e+12</td>\n",
       "    </tr>\n",
       "    <tr>\n",
       "      <th>248</th>\n",
       "      <td>WOODROW</td>\n",
       "      <td>1.362830e+12</td>\n",
       "    </tr>\n",
       "    <tr>\n",
       "      <th>249</th>\n",
       "      <td>WOODSIDE</td>\n",
       "      <td>7.039130e+12</td>\n",
       "    </tr>\n",
       "    <tr>\n",
       "      <th>250</th>\n",
       "      <td>WYCKOFF HEIGHTS</td>\n",
       "      <td>1.426510e+12</td>\n",
       "    </tr>\n",
       "  </tbody>\n",
       "</table>\n",
       "<p>251 rows × 2 columns</p>\n",
       "</div>"
      ],
      "text/plain": [
       "           NEIGHBORHOOD    SALE PRICE\n",
       "0    AIRPORT LA GUARDIA  3.101923e+11\n",
       "1         ALPHABET CITY  1.747321e+13\n",
       "2              ANNADALE  7.012766e+10\n",
       "3         ARDEN HEIGHTS  1.464635e+10\n",
       "4              ARROCHAR  8.959645e+10\n",
       "..                  ...           ...\n",
       "246           WOODHAVEN  1.199117e+11\n",
       "247            WOODLAWN  3.340218e+12\n",
       "248             WOODROW  1.362830e+12\n",
       "249            WOODSIDE  7.039130e+12\n",
       "250     WYCKOFF HEIGHTS  1.426510e+12\n",
       "\n",
       "[251 rows x 2 columns]"
      ]
     },
     "execution_count": 48,
     "metadata": {},
     "output_type": "execute_result"
    }
   ],
   "source": [
    "var_df = df_use5.groupby(['NEIGHBORHOOD'])['SALE PRICE'].var().reset_index()\n",
    "var_df"
   ]
  },
  {
   "cell_type": "markdown",
   "id": "633eadf6",
   "metadata": {},
   "source": [
    "---\n",
    "# F. Measure of Spread: Standard Deviation"
   ]
  },
  {
   "cell_type": "markdown",
   "id": "a5c6a7b8",
   "metadata": {},
   "source": [
    "**Question**\n",
    "\n",
    "Berapa standar deviasi harga jual tertinggi dengan terendah properti di New York berdasarkan neighborhood?"
   ]
  },
  {
   "cell_type": "code",
   "execution_count": 49,
   "id": "8f49e443",
   "metadata": {},
   "outputs": [],
   "source": [
    "df_use6 = df_use.copy()"
   ]
  },
  {
   "cell_type": "code",
   "execution_count": 50,
   "id": "c648f084",
   "metadata": {},
   "outputs": [
    {
     "data": {
      "text/html": [
       "<div>\n",
       "<style scoped>\n",
       "    .dataframe tbody tr th:only-of-type {\n",
       "        vertical-align: middle;\n",
       "    }\n",
       "\n",
       "    .dataframe tbody tr th {\n",
       "        vertical-align: top;\n",
       "    }\n",
       "\n",
       "    .dataframe thead th {\n",
       "        text-align: right;\n",
       "    }\n",
       "</style>\n",
       "<table border=\"1\" class=\"dataframe\">\n",
       "  <thead>\n",
       "    <tr style=\"text-align: right;\">\n",
       "      <th></th>\n",
       "      <th>NEIGHBORHOOD</th>\n",
       "      <th>SALE PRICE</th>\n",
       "    </tr>\n",
       "  </thead>\n",
       "  <tbody>\n",
       "    <tr>\n",
       "      <th>0</th>\n",
       "      <td>AIRPORT LA GUARDIA</td>\n",
       "      <td>5.569491e+05</td>\n",
       "    </tr>\n",
       "    <tr>\n",
       "      <th>1</th>\n",
       "      <td>ALPHABET CITY</td>\n",
       "      <td>4.180097e+06</td>\n",
       "    </tr>\n",
       "    <tr>\n",
       "      <th>2</th>\n",
       "      <td>ANNADALE</td>\n",
       "      <td>2.648163e+05</td>\n",
       "    </tr>\n",
       "    <tr>\n",
       "      <th>3</th>\n",
       "      <td>ARDEN HEIGHTS</td>\n",
       "      <td>1.210221e+05</td>\n",
       "    </tr>\n",
       "    <tr>\n",
       "      <th>4</th>\n",
       "      <td>ARROCHAR</td>\n",
       "      <td>2.993267e+05</td>\n",
       "    </tr>\n",
       "    <tr>\n",
       "      <th>...</th>\n",
       "      <td>...</td>\n",
       "      <td>...</td>\n",
       "    </tr>\n",
       "    <tr>\n",
       "      <th>246</th>\n",
       "      <td>WOODHAVEN</td>\n",
       "      <td>3.462827e+05</td>\n",
       "    </tr>\n",
       "    <tr>\n",
       "      <th>247</th>\n",
       "      <td>WOODLAWN</td>\n",
       "      <td>1.827626e+06</td>\n",
       "    </tr>\n",
       "    <tr>\n",
       "      <th>248</th>\n",
       "      <td>WOODROW</td>\n",
       "      <td>1.167403e+06</td>\n",
       "    </tr>\n",
       "    <tr>\n",
       "      <th>249</th>\n",
       "      <td>WOODSIDE</td>\n",
       "      <td>2.653136e+06</td>\n",
       "    </tr>\n",
       "    <tr>\n",
       "      <th>250</th>\n",
       "      <td>WYCKOFF HEIGHTS</td>\n",
       "      <td>1.194366e+06</td>\n",
       "    </tr>\n",
       "  </tbody>\n",
       "</table>\n",
       "<p>251 rows × 2 columns</p>\n",
       "</div>"
      ],
      "text/plain": [
       "           NEIGHBORHOOD    SALE PRICE\n",
       "0    AIRPORT LA GUARDIA  5.569491e+05\n",
       "1         ALPHABET CITY  4.180097e+06\n",
       "2              ANNADALE  2.648163e+05\n",
       "3         ARDEN HEIGHTS  1.210221e+05\n",
       "4              ARROCHAR  2.993267e+05\n",
       "..                  ...           ...\n",
       "246           WOODHAVEN  3.462827e+05\n",
       "247            WOODLAWN  1.827626e+06\n",
       "248             WOODROW  1.167403e+06\n",
       "249            WOODSIDE  2.653136e+06\n",
       "250     WYCKOFF HEIGHTS  1.194366e+06\n",
       "\n",
       "[251 rows x 2 columns]"
      ]
     },
     "execution_count": 50,
     "metadata": {},
     "output_type": "execute_result"
    }
   ],
   "source": [
    "std_df = df_use6.groupby(['NEIGHBORHOOD'])['SALE PRICE'].std().reset_index()\n",
    "std_df"
   ]
  },
  {
   "cell_type": "markdown",
   "id": "7b7ebaf7",
   "metadata": {},
   "source": [
    "---\n",
    "# G. Probability Distribution"
   ]
  },
  {
   "cell_type": "markdown",
   "id": "994e9ba3",
   "metadata": {},
   "source": [
    "**Question**\n",
    "\n",
    "Bagaimana distribusi probabilitas dari harga jual properti di Arden Heights?"
   ]
  },
  {
   "cell_type": "code",
   "execution_count": 52,
   "id": "4c5dd526",
   "metadata": {},
   "outputs": [],
   "source": [
    "import seaborn as sns\n",
    "import matplotlib.pyplot as plt"
   ]
  },
  {
   "cell_type": "code",
   "execution_count": 66,
   "id": "535a744a",
   "metadata": {},
   "outputs": [],
   "source": [
    "df_use7 = df_use[df_use['NEIGHBORHOOD'] == 'ARDEN HEIGHTS']"
   ]
  },
  {
   "cell_type": "code",
   "execution_count": 67,
   "id": "e9a4b3e2",
   "metadata": {},
   "outputs": [
    {
     "data": {
      "text/plain": [
       "<seaborn.axisgrid.FacetGrid at 0x195c8a3c2e0>"
      ]
     },
     "execution_count": 67,
     "metadata": {},
     "output_type": "execute_result"
    },
    {
     "data": {
      "image/png": "[encoded data removed]",
      "text/plain": [
       "<Figure size 360x360 with 1 Axes>"
      ]
     },
     "metadata": {
      "needs_background": "light"
     },
     "output_type": "display_data"
    }
   ],
   "source": [
    "sns.displot(data = df_use7,\n",
    "            x = 'SALE PRICE',\n",
    "            kde=True)"
   ]
  },
  {
   "cell_type": "markdown",
   "id": "97953944",
   "metadata": {},
   "source": [
    "**Kesimpulan**\n",
    "\n",
    "Berdasarkan grafik yang telah dibuat dapat dilihat bahwa grafik garisnya nyaris normal namun jika dilihat dari barplotnya terlihat bahwa distribusinya lebih condong ke Gamma karena memiliki sedikit condong atau skew ke arah kiri sehingga dapat disimpulkan bahwa harga properti di Arden Height memiliki persebaran cukup merata untuk jumlah properti harga tinggi, rendah, dan menengah"
   ]
  },
  {
   "cell_type": "markdown",
   "id": "ff824866",
   "metadata": {},
   "source": [
    "---\n",
    "# H. Confidence Intervals"
   ]
  },
  {
   "cell_type": "markdown",
   "id": "37f95614",
   "metadata": {},
   "source": [
    "**Question**\n",
    "\n",
    "Berapa true mean dari harga jual properti di Arden Heights?"
   ]
  },
  {
   "cell_type": "code",
   "execution_count": 81,
   "id": "dbcb9bd0",
   "metadata": {},
   "outputs": [
    {
     "data": {
      "text/html": [
       "<div>\n",
       "<style scoped>\n",
       "    .dataframe tbody tr th:only-of-type {\n",
       "        vertical-align: middle;\n",
       "    }\n",
       "\n",
       "    .dataframe tbody tr th {\n",
       "        vertical-align: top;\n",
       "    }\n",
       "\n",
       "    .dataframe thead tr th {\n",
       "        text-align: left;\n",
       "    }\n",
       "\n",
       "    .dataframe thead tr:last-of-type th {\n",
       "        text-align: right;\n",
       "    }\n",
       "</style>\n",
       "<table border=\"1\" class=\"dataframe\">\n",
       "  <thead>\n",
       "    <tr>\n",
       "      <th></th>\n",
       "      <th colspan=\"3\" halign=\"left\">SALE PRICE</th>\n",
       "    </tr>\n",
       "    <tr>\n",
       "      <th></th>\n",
       "      <th>mean</th>\n",
       "      <th>std</th>\n",
       "      <th>size</th>\n",
       "    </tr>\n",
       "    <tr>\n",
       "      <th>NEIGHBORHOOD</th>\n",
       "      <th></th>\n",
       "      <th></th>\n",
       "      <th></th>\n",
       "    </tr>\n",
       "  </thead>\n",
       "  <tbody>\n",
       "    <tr>\n",
       "      <th>ARDEN HEIGHTS</th>\n",
       "      <td>397414.915556</td>\n",
       "      <td>121022.09153</td>\n",
       "      <td>225</td>\n",
       "    </tr>\n",
       "  </tbody>\n",
       "</table>\n",
       "</div>"
      ],
      "text/plain": [
       "                  SALE PRICE                   \n",
       "                        mean           std size\n",
       "NEIGHBORHOOD                                   \n",
       "ARDEN HEIGHTS  397414.915556  121022.09153  225"
      ]
     },
     "execution_count": 81,
     "metadata": {},
     "output_type": "execute_result"
    }
   ],
   "source": [
    "df_use8 = df_use7.groupby('NEIGHBORHOOD').agg({'SALE PRICE' : [np.mean, np.std, np.size]})\n",
    "df_use8"
   ]
  },
  {
   "cell_type": "code",
   "execution_count": 82,
   "id": "7b3d46af",
   "metadata": {},
   "outputs": [],
   "source": [
    "mean_8 = 397414.915556\n",
    "std_8 = 121022.09153\n",
    "n = 225\n",
    "z = 1.9"
   ]
  },
  {
   "cell_type": "code",
   "execution_count": 83,
   "id": "938a9453",
   "metadata": {},
   "outputs": [
    {
     "data": {
      "text/plain": [
       "8068.1394353333335"
      ]
     },
     "execution_count": 83,
     "metadata": {},
     "output_type": "execute_result"
    }
   ],
   "source": [
    "se = std_8 / np.sqrt(n)\n",
    "se"
   ]
  },
  {
   "cell_type": "code",
   "execution_count": 84,
   "id": "e9c88188",
   "metadata": {},
   "outputs": [
    {
     "data": {
      "text/plain": [
       "(382085.4506288667, 412744.38048313337)"
      ]
     },
     "execution_count": 84,
     "metadata": {},
     "output_type": "execute_result"
    }
   ],
   "source": [
    "lcb = mean_8 - z * se\n",
    "ucb = mean_8 + z * se\n",
    "lcb,ucb"
   ]
  },
  {
   "cell_type": "markdown",
   "id": "3f46ede0",
   "metadata": {},
   "source": [
    "**Kesimpulan**\n",
    "\n",
    "Berdasarkan perhitungan confidence interval, true mean dari harga properti di Arden Heights adalah antara 382085.4506288667 dan 412744.38048313337"
   ]
  },
  {
   "cell_type": "markdown",
   "id": "f5fee688",
   "metadata": {},
   "source": [
    "---\n",
    "# I. Hypothesis Testing"
   ]
  },
  {
   "cell_type": "code",
   "execution_count": 91,
   "id": "c40e9005",
   "metadata": {},
   "outputs": [
    {
     "data": {
      "text/plain": [
       "<AxesSubplot:xlabel='NEIGHBORHOOD', ylabel='count'>"
      ]
     },
     "execution_count": 91,
     "metadata": {},
     "output_type": "execute_result"
    },
    {
     "data": {
      "image/png": "[encoded data removed]",
      "text/plain": [
       "<Figure size 432x288 with 1 Axes>"
      ]
     },
     "metadata": {
      "needs_background": "light"
     },
     "output_type": "display_data"
    }
   ],
   "source": [
    "# Bivariate analysis\n",
    "df_use_9 = df_use[(df_use['NEIGHBORHOOD'] == 'ARDEN HEIGHTS') | (df_use['NEIGHBORHOOD'] == 'ANNADALE')]\n",
    "sns.barplot(x='NEIGHBORHOOD',y='SALE PRICE',data=df_use_9)\n"
   ]
  },
  {
   "cell_type": "code",
   "execution_count": 92,
   "id": "5c1fc5bc",
   "metadata": {},
   "outputs": [
    {
     "data": {
      "text/plain": [
       "<AxesSubplot:xlabel='NEIGHBORHOOD', ylabel='count'>"
      ]
     },
     "execution_count": 92,
     "metadata": {},
     "output_type": "execute_result"
    },
    {
     "data": {
      "image/png": "[encoded data removed]",
      "text/plain": [
       "<Figure size 432x288 with 1 Axes>"
      ]
     },
     "metadata": {
      "needs_background": "light"
     },
     "output_type": "display_data"
    }
   ],
   "source": [
    "sns.countplot(x='NEIGHBORHOOD',data=df_use_9)"
   ]
  },
  {
   "cell_type": "markdown",
   "id": "21ece32b",
   "metadata": {},
   "source": [
    "**Null Hypothesis        : μ1 = μ2**\n",
    "\n",
    "**Alternative Hypothesis : μ1 != μ2**\n",
    "\n",
    "Berdasarkan grafik muncul hipotesis bahwa harga properti di Annadale lebih tinggi signifikan dari harga properti di Arden Heights, melihat jumlah data annadale lebih sedikit tpi harga total lebih besar dari Arden Heights"
   ]
  },
  {
   "cell_type": "code",
   "execution_count": 93,
   "id": "8672c0dd",
   "metadata": {},
   "outputs": [],
   "source": [
    "ard = df_use[df_use['NEIGHBORHOOD'] == 'ARDEN HEIGHTS']\n",
    "ann = df_use[df_use['NEIGHBORHOOD'] == 'ANNADALE']"
   ]
  },
  {
   "cell_type": "code",
   "execution_count": 94,
   "id": "95a7ef1c",
   "metadata": {},
   "outputs": [
    {
     "data": {
      "text/plain": [
       "(225, 397414.91555555555, 121022.09153039023)"
      ]
     },
     "execution_count": 94,
     "metadata": {},
     "output_type": "execute_result"
    }
   ],
   "source": [
    "n1 = len(ard)\n",
    "mean1 = ard['SALE PRICE'].mean()\n",
    "std1 = ard['SALE PRICE'].std()\n",
    "\n",
    "n1, mean1, std1"
   ]
  },
  {
   "cell_type": "code",
   "execution_count": 95,
   "id": "85d33ddd",
   "metadata": {},
   "outputs": [
    {
     "data": {
      "text/plain": [
       "(110, 614168.0454545454, 264816.2828920446)"
      ]
     },
     "execution_count": 95,
     "metadata": {},
     "output_type": "execute_result"
    }
   ],
   "source": [
    "n2 = len(ann)\n",
    "mean2 = ann['SALE PRICE'].mean()\n",
    "std2 = ann['SALE PRICE'].std()\n",
    "\n",
    "n2, mean2, std2"
   ]
  },
  {
   "cell_type": "code",
   "execution_count": 98,
   "id": "1b421ed9",
   "metadata": {},
   "outputs": [
    {
     "data": {
      "text/plain": [
       "(-10.286034868876607, 8.146221233248191e-25)"
      ]
     },
     "execution_count": 98,
     "metadata": {},
     "output_type": "execute_result"
    }
   ],
   "source": [
    "import statsmodels.api as sm\n",
    "sm.stats.ztest(ard['SALE PRICE'], ann['SALE PRICE'], alternative = 'two-sided')"
   ]
  },
  {
   "cell_type": "markdown",
   "id": "c37f3063",
   "metadata": {},
   "source": [
    "**Kesimpulan**\n",
    "\n",
    "Pada analisis ini saya meggunakan alternative = 'two-sided' karena null hypothesis yang diperiksa adalah ketidaksamaan dari harga properti. Karena p-value (8.14e-25) sangat kecil, maka kita dapat **reject the null hypothesis** bahwa harga properti di Annadale lebih tinggi signifikan daripada harga properti di Arden Heights. "
   ]
  },
  {
   "cell_type": "markdown",
   "id": "7643d62c",
   "metadata": {},
   "source": [
    "---\n",
    "# Overall Analysis\n",
    "\n",
    "Berdasarkan analisis yang telah dilakukan dapat disimpulkan sebagai berikut.\n",
    "\n",
    "1. Rata - rata harga properti di Arden Heights adalah 397414.915\n",
    "2. Nilai tengah harga properti di Arden Heights adalah 380000\n",
    "3. Modus dari harga properti di Arden Heights adalah 380000\n",
    "4. Range dari harga properti di Arden Heights adalah 380000\n",
    "5. Varians dari harga properti di Arden Heights adalah 1.464635e+10\n",
    "6. Standar Deviasi dari harga properti di Arden Heights adalah 121022\n",
    "7. Berdasarkan grafik yang telah dibuat dapat dilihat bahwa grafik garisnya nyaris normal namun jika dilihat dari barplotnya terlihat bahwa distribusinya lebih condong ke Gamma karena memiliki sedikit condong atau skew ke arah kiri sehingga dapat disimpulkan bahwa harga properti di Arden Height memiliki persebaran cukup merata untuk jumlah properti harga tinggi, rendah, dan menengah\n",
    "8. Berdasarkan perhitungan confidence interval, true mean dari harga properti di Arden Heights adalah antara 382085.4506288667 dan 412744.38048313337\n",
    "9. Pada analisis ini saya meggunakan alternative = 'two-sided' karena null hypothesis yang diperiksa adalah ketidaksamaan dari harga properti. Karena p-value (8.14e-25) sangat kecil, maka kita dapat reject the null hypothesis bahwa harga properti di Annadale lebih tinggi signifikan daripada harga properti di Arden Heights."
   ]
  }
 ],
 "metadata": {
  "colab": {
   "collapsed_sections": [],
   "provenance": []
  },
  "kernelspec": {
   "display_name": "Python 3 (ipykernel)",
   "language": "python",
   "name": "python3"
  },
  "language_info": {
   "codemirror_mode": {
    "name": "ipython",
    "version": 3
   },
   "file_extension": ".py",
   "mimetype": "text/x-python",
   "name": "python",
   "nbconvert_exporter": "python",
   "pygments_lexer": "ipython3",
   "version": "3.9.12"
  }
 },
 "nbformat": 4,
 "nbformat_minor": 5
}
