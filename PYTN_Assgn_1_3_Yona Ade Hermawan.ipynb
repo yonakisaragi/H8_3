{
 "cells": [
  {
   "cell_type": "markdown",
   "id": "1a166508",
   "metadata": {
    "id": "1a166508"
   },
   "source": [
    "```\n",
    "Kalau kita buat listnya/summary dari perintah di module kode id :\n",
    "\n",
    "A. Area Plot (a)\n",
    "B. Histogram (a)\n",
    "C. Bar Chart (a)\n",
    "D. Pie Chart (a)\n",
    "E. Box Plot  (a)\n",
    "F. Scatter Plot (a)\n",
    "G. Word Clouds\n",
    "H. Folium Maps\n",
    "I. Overall Analysis\n",
    "\n",
    "*for each plot (A - F):\n",
    "- Question/what data we want to visualize\n",
    "- Pre-processing as needed\n",
    "- (a)or analysis :: Conclusion / Kesimpulan\n",
    "```"
   ]
  },
  {
   "cell_type": "markdown",
   "id": "d426f219",
   "metadata": {},
   "source": [
    "# Import Library"
   ]
  },
  {
   "cell_type": "code",
   "execution_count": null,
   "id": "b2d3857a",
   "metadata": {},
   "outputs": [],
   "source": [
    "import numpy as np\n",
    "import pandas as pd\n",
    "import folium\n",
    "import requests\n",
    "import json\n",
    "import matplotlib as mpl\n",
    "import matplotlib.pyplot as plt\n",
    "from wordcloud import WordCloud, STOPWORDS"
   ]
  },
  {
   "cell_type": "markdown",
   "id": "7dfd9562",
   "metadata": {
    "id": "7dfd9562"
   },
   "source": [
    "---\n",
    "# A. Area Plot"
   ]
  },
  {
   "cell_type": "markdown",
   "id": "8df186fc",
   "metadata": {
    "id": "8df186fc"
   },
   "source": [
    "**Question**  // *Kumpulkan informasi menggunakan analisis kalian* "
   ]
  },
  {
   "cell_type": "code",
   "execution_count": null,
   "id": "f9ac7f09",
   "metadata": {
    "id": "f9ac7f09"
   },
   "outputs": [],
   "source": [
    "# Question: ......"
   ]
  },
  {
   "cell_type": "markdown",
   "id": "dbc535b3",
   "metadata": {
    "id": "dbc535b3"
   },
   "source": [
    "**Pre-processing as needed** // *Student melakukan preproses dataset sebelum menerapkan visualisasi*"
   ]
  },
  {
   "cell_type": "code",
   "execution_count": null,
   "id": "ceb78fdb",
   "metadata": {
    "id": "ceb78fdb"
   },
   "outputs": [],
   "source": [
    "# 1. pre-processing as needed\n",
    "\n"
   ]
  },
  {
   "cell_type": "code",
   "execution_count": null,
   "id": "2a13ac40",
   "metadata": {
    "id": "2a13ac40"
   },
   "outputs": [],
   "source": [
    "# .."
   ]
  },
  {
   "cell_type": "markdown",
   "id": "7f60908c",
   "metadata": {
    "id": "7f60908c"
   },
   "source": [
    "**Create data visualization** // *Mengimplementasikan area plot menggunakan matplotlib dengan data yang relevan dan sesuai dengan kegunaan plot/grafik*"
   ]
  },
  {
   "cell_type": "code",
   "execution_count": null,
   "id": "9d09cb07",
   "metadata": {
    "id": "9d09cb07"
   },
   "outputs": [],
   "source": [
    "# 2. create visualization\n",
    "\n"
   ]
  },
  {
   "cell_type": "markdown",
   "id": "a712ad87",
   "metadata": {
    "id": "a712ad87"
   },
   "source": [
    "**Conclusion** // *Menarik informasi/kesimpulan berdasarkan area plot yang telah student buat*\n",
    "\n"
   ]
  },
  {
   "cell_type": "code",
   "execution_count": null,
   "id": "e2834d89",
   "metadata": {
    "id": "e2834d89"
   },
   "outputs": [],
   "source": [
    "# 3. conclusion ...."
   ]
  },
  {
   "cell_type": "markdown",
   "id": "4a193849",
   "metadata": {
    "id": "4a193849"
   },
   "source": [
    "---\n",
    "# B. Histogram"
   ]
  },
  {
   "cell_type": "code",
   "execution_count": null,
   "id": "4d31ef2a",
   "metadata": {
    "id": "4d31ef2a"
   },
   "outputs": [],
   "source": [
    "# Question: ......"
   ]
  },
  {
   "cell_type": "code",
   "execution_count": null,
   "id": "ade0039d",
   "metadata": {
    "id": "ade0039d"
   },
   "outputs": [],
   "source": [
    "# 1. pre-processing as needed"
   ]
  },
  {
   "cell_type": "code",
   "execution_count": null,
   "id": "54184f49",
   "metadata": {
    "id": "54184f49"
   },
   "outputs": [],
   "source": [
    "# 2. create visualization"
   ]
  },
  {
   "cell_type": "code",
   "execution_count": null,
   "id": "7143545d",
   "metadata": {
    "id": "7143545d"
   },
   "outputs": [],
   "source": [
    "# 3. conclusion ...."
   ]
  },
  {
   "cell_type": "markdown",
   "id": "2b75ef82",
   "metadata": {
    "id": "2b75ef82"
   },
   "source": [
    "---\n",
    "# C. Bar Chart\n"
   ]
  },
  {
   "cell_type": "code",
   "execution_count": null,
   "id": "1bdb3684",
   "metadata": {
    "id": "1bdb3684"
   },
   "outputs": [],
   "source": [
    "# Question: ......"
   ]
  },
  {
   "cell_type": "code",
   "execution_count": null,
   "id": "7ed02923",
   "metadata": {
    "id": "7ed02923"
   },
   "outputs": [],
   "source": [
    "# 1. pre-processing as needed"
   ]
  },
  {
   "cell_type": "code",
   "execution_count": null,
   "id": "6f5d7382",
   "metadata": {
    "id": "6f5d7382"
   },
   "outputs": [],
   "source": [
    "# 2. create visualization"
   ]
  },
  {
   "cell_type": "code",
   "execution_count": null,
   "id": "8bf6dac3",
   "metadata": {
    "id": "8bf6dac3"
   },
   "outputs": [],
   "source": [
    "# 3. conclusion ...."
   ]
  },
  {
   "cell_type": "markdown",
   "id": "ec41a544",
   "metadata": {
    "id": "ec41a544"
   },
   "source": [
    "---\n",
    "# D. Pie Chart"
   ]
  },
  {
   "cell_type": "code",
   "execution_count": null,
   "id": "adbf7cb7",
   "metadata": {
    "id": "adbf7cb7"
   },
   "outputs": [],
   "source": [
    "# Question: ......"
   ]
  },
  {
   "cell_type": "code",
   "execution_count": null,
   "id": "105e6775",
   "metadata": {
    "id": "105e6775"
   },
   "outputs": [],
   "source": [
    "# 1. pre-processing as needed"
   ]
  },
  {
   "cell_type": "code",
   "execution_count": null,
   "id": "a314e6ac",
   "metadata": {
    "id": "a314e6ac"
   },
   "outputs": [],
   "source": [
    "# 2. create visualization"
   ]
  },
  {
   "cell_type": "code",
   "execution_count": null,
   "id": "a75ee311",
   "metadata": {
    "id": "a75ee311"
   },
   "outputs": [],
   "source": [
    "# 3. conclusion ...."
   ]
  },
  {
   "cell_type": "markdown",
   "id": "f7949b67",
   "metadata": {
    "id": "f7949b67"
   },
   "source": [
    "---\n",
    "# E. Box Plot"
   ]
  },
  {
   "cell_type": "code",
   "execution_count": null,
   "id": "5fc9e170",
   "metadata": {
    "id": "5fc9e170"
   },
   "outputs": [],
   "source": [
    "# Question: ......"
   ]
  },
  {
   "cell_type": "code",
   "execution_count": null,
   "id": "704d2eec",
   "metadata": {
    "id": "704d2eec"
   },
   "outputs": [],
   "source": [
    "# 1. pre-processing as needed"
   ]
  },
  {
   "cell_type": "code",
   "execution_count": null,
   "id": "bd7e95bf",
   "metadata": {
    "id": "bd7e95bf"
   },
   "outputs": [],
   "source": [
    "# 2. create visualization"
   ]
  },
  {
   "cell_type": "code",
   "execution_count": null,
   "id": "9d92e7dd",
   "metadata": {
    "id": "9d92e7dd"
   },
   "outputs": [],
   "source": [
    "# 3. conclusion ...."
   ]
  },
  {
   "cell_type": "markdown",
   "id": "13b95330",
   "metadata": {
    "id": "13b95330"
   },
   "source": [
    "---\n",
    "# F. Scatter Plot"
   ]
  },
  {
   "cell_type": "code",
   "execution_count": null,
   "id": "43c12189",
   "metadata": {
    "id": "43c12189"
   },
   "outputs": [],
   "source": [
    "# Question: ......"
   ]
  },
  {
   "cell_type": "code",
   "execution_count": null,
   "id": "8cc674cd",
   "metadata": {
    "id": "8cc674cd"
   },
   "outputs": [],
   "source": [
    "# 1. pre-processing as needed"
   ]
  },
  {
   "cell_type": "code",
   "execution_count": null,
   "id": "6dea7afe",
   "metadata": {
    "id": "6dea7afe"
   },
   "outputs": [],
   "source": [
    "# 2. create visualization"
   ]
  },
  {
   "cell_type": "code",
   "execution_count": null,
   "id": "40ecc2df",
   "metadata": {
    "id": "40ecc2df"
   },
   "outputs": [],
   "source": [
    "# 3. conclusion ...."
   ]
  },
  {
   "cell_type": "markdown",
   "id": "2997d84d",
   "metadata": {
    "id": "2997d84d"
   },
   "source": [
    "..."
   ]
  },
  {
   "cell_type": "code",
   "execution_count": null,
   "id": "8716e6e5",
   "metadata": {
    "id": "8716e6e5"
   },
   "outputs": [],
   "source": []
  }
 ],
 "metadata": {
  "colab": {
   "provenance": []
  },
  "kernelspec": {
   "display_name": "Python 3 (ipykernel)",
   "language": "python",
   "name": "python3"
  },
  "language_info": {
   "codemirror_mode": {
    "name": "ipython",
    "version": 3
   },
   "file_extension": ".py",
   "mimetype": "text/x-python",
   "name": "python",
   "nbconvert_exporter": "python",
   "pygments_lexer": "ipython3",
   "version": "3.9.12"
  }
 },
 "nbformat": 4,
 "nbformat_minor": 5
}
